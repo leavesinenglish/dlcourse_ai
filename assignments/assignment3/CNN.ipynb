{
  "cells": [
    {
      "cell_type": "markdown",
      "metadata": {
        "id": "8P7NCjJYR1te"
      },
      "source": [
        "# Задание 3.1 - Сверточные нейронные сети (Convolutional Neural Networks)\n",
        "\n",
        "Это последнее задание на numpy, вы до него дожили! Остался последний марш-бросок, дальше только PyTorch.\n",
        "\n",
        "В этом задании вы реализуете свою собственную сверточную нейронную сеть."
      ]
    },
    {
      "cell_type": "code",
      "source": [
        "from google.colab import drive\n",
        "drive.mount('/content/drive')"
      ],
      "metadata": {
        "colab": {
          "base_uri": "https://localhost:8080/"
        },
        "id": "lcjzHx8gR6Zy",
        "outputId": "b7e17b22-9fca-4184-d35b-5aaa9bf03120"
      },
      "execution_count": 1,
      "outputs": [
        {
          "output_type": "stream",
          "name": "stdout",
          "text": [
            "Mounted at /content/drive\n"
          ]
        }
      ]
    },
    {
      "cell_type": "code",
      "execution_count": 2,
      "metadata": {
        "id": "7Ta87NndR1tq"
      },
      "outputs": [],
      "source": [
        "import numpy as np\n",
        "import matplotlib.pyplot as plt\n",
        "\n",
        "%matplotlib inline\n",
        "\n",
        "%load_ext autoreload\n",
        "%autoreload 2"
      ]
    },
    {
      "cell_type": "code",
      "execution_count": 3,
      "metadata": {
        "id": "B8oW8a3yR1tu"
      },
      "outputs": [],
      "source": [
        "from dataset import load_svhn, random_split_train_val\n",
        "from gradient_check import check_layer_gradient, check_layer_param_gradient, check_model_gradient\n",
        "from layers import FullyConnectedLayer, ReLULayer, ConvolutionalLayer, MaxPoolingLayer, Flattener\n",
        "from model import ConvNet\n",
        "from trainer import Trainer, Dataset\n",
        "from optim import SGD, MomentumSGD\n",
        "from metrics import multiclass_accuracy"
      ]
    },
    {
      "cell_type": "markdown",
      "metadata": {
        "id": "Ts3L2Kw_R1tv"
      },
      "source": [
        "# Загружаем данные\n",
        "\n",
        "На этот раз мы не будем их преобразовывать в один вектор, а оставим размерности (num_samples, 32, 32, 3)."
      ]
    },
    {
      "cell_type": "code",
      "execution_count": 4,
      "metadata": {
        "colab": {
          "base_uri": "https://localhost:8080/"
        },
        "id": "UmO-prrJR1tx",
        "outputId": "2fc370ad-771f-4c6b-db30-62483011f46c"
      },
      "outputs": [
        {
          "output_type": "stream",
          "name": "stderr",
          "text": [
            "/usr/local/lib/python3.7/dist-packages/ipykernel_launcher.py:2: DeprecationWarning: `np.float` is a deprecated alias for the builtin `float`. To silence this warning, use `float` by itself. Doing this will not modify any behavior and is safe. If you specifically wanted the numpy scalar type, use `np.float64` here.\n",
            "Deprecated in NumPy 1.20; for more details and guidance: https://numpy.org/devdocs/release/1.20.0-notes.html#deprecations\n",
            "  \n",
            "/usr/local/lib/python3.7/dist-packages/ipykernel_launcher.py:3: DeprecationWarning: `np.float` is a deprecated alias for the builtin `float`. To silence this warning, use `float` by itself. Doing this will not modify any behavior and is safe. If you specifically wanted the numpy scalar type, use `np.float64` here.\n",
            "Deprecated in NumPy 1.20; for more details and guidance: https://numpy.org/devdocs/release/1.20.0-notes.html#deprecations\n",
            "  This is separate from the ipykernel package so we can avoid doing imports until\n"
          ]
        }
      ],
      "source": [
        "def prepare_for_neural_network(train_X, test_X):    \n",
        "    train_X = train_X.astype(np.float) / 255.0\n",
        "    test_X = test_X.astype(np.float) / 255.0\n",
        "    \n",
        "    # Subtract mean\n",
        "    mean_image = np.mean(train_X, axis = 0)\n",
        "    train_X -= mean_image\n",
        "    test_X -= mean_image\n",
        "    \n",
        "    return train_X, test_X\n",
        "    \n",
        "train_X, train_y, test_X, test_y = load_svhn(\"drive/MyDrive/dlcourse_ai/assignment2/data\", max_train=10000, max_test=1000)    \n",
        "train_X, test_X = prepare_for_neural_network(train_X, test_X)\n",
        "# Split train into train and val\n",
        "train_X, train_y, val_X, val_y = random_split_train_val(train_X, train_y, num_val = 1000)"
      ]
    },
    {
      "cell_type": "markdown",
      "metadata": {
        "id": "rqvY_mwTR1ty"
      },
      "source": [
        "# Реализуем новые слои!\n",
        "\n",
        "Сначала основной новый слой - сверточный (Convolutional layer). \n",
        "Для начала мы реализуем его для только одного канала, а потом для нескольких.\n",
        "\n",
        "Сверточный слой выполняет операцию свертки (convolution) с весами для каждого канала, а потом складывает результаты. \n",
        "Возможно, поможет пересмотреть Лекцию 6 или внимательно прочитать\n",
        "http://cs231n.github.io/convolutional-networks/\n",
        "\n",
        "Один из подходов к реализации сверточного слоя основан на том, что для конкретного \"пикселя\" выхода применение сверточного слоя эквивалентно обычному полносвязному.  \n",
        "Рассмотрим один такой \"пиксель\":\n",
        "![image.png](attachment:image.png)\n",
        "\n",
        "Он получает на вход   \n",
        "регион входа I размера `(batch_size, filter_size, filter_size, input_channels)`,  \n",
        "применяет к нему веса W `(filter_size, filter_size, input_channels, output_channels`\n",
        "и выдает `(batch_size, output_channels)`. \n",
        "\n",
        "Если:  \n",
        "- вход преобразовать в I' `(batch_size, filter_size*filter_size*input_channels)`,  \n",
        "- веса в W' `(filter_size*filter_size*input_channels, output_channels)`,  \n",
        "то выход \"пикселе\" будет эквивалентен полносвязному слою со входом I' и весами W'.\n",
        "\n",
        "Осталось выполнить его в цикле для каждого пикселя :)"
      ]
    },
    {
      "cell_type": "code",
      "execution_count": 5,
      "metadata": {
        "scrolled": false,
        "id": "IbUqNiUTR1t5",
        "colab": {
          "base_uri": "https://localhost:8080/"
        },
        "outputId": "ce75157c-af7d-4078-9f2d-002c5611b69d"
      },
      "outputs": [
        {
          "output_type": "stream",
          "name": "stdout",
          "text": [
            "Shape of X: (2, 2, 2, 1)\n",
            "Shape of W (2, 2, 1, 1)\n",
            "Shape of X: (2, 2, 2, 2)\n"
          ]
        }
      ],
      "source": [
        "# TODO: Implement ConvolutionaLayer that supports only 1 output and input channel\n",
        "\n",
        "# Note: now you're working with images, so X is 4-dimensional tensor of\n",
        "# (batch_size, height, width, channels)\n",
        "\n",
        "X = np.array([\n",
        "              [\n",
        "               [[1.0], [2.0]],\n",
        "               [[0.0], [-1.0]]\n",
        "              ]\n",
        "              ,\n",
        "              [\n",
        "               [[0.0], [1.0]],\n",
        "               [[-2.0], [-1.0]]\n",
        "              ]\n",
        "             ])\n",
        "\n",
        "# Batch of 2 images of dimensions 2x2 with a single channel\n",
        "print(\"Shape of X:\",X.shape)\n",
        "\n",
        "layer = ConvolutionalLayer(in_channels=1, out_channels=1, filter_size=2, padding=0)\n",
        "print(\"Shape of W\", layer.W.value.shape)\n",
        "layer.W.value = np.zeros_like(layer.W.value)\n",
        "layer.W.value[0, 0, 0, 0] = 1.0\n",
        "layer.B.value = np.ones_like(layer.B.value)\n",
        "result = layer.forward(X)\n",
        "\n",
        "assert result.shape == (2, 1, 1, 1)\n",
        "assert np.all(result == X[:, :1, :1, :1] +1), \"result: %s, X: %s\" % (result, X[:, :1, :1, :1])\n",
        "\n",
        "\n",
        "# Now let's implement multiple output channels\n",
        "layer = ConvolutionalLayer(in_channels=1, out_channels=2, filter_size=2, padding=0)\n",
        "result = layer.forward(X)\n",
        "assert result.shape == (2, 1, 1, 2)\n",
        "\n",
        "\n",
        "# And now multple input channels!\n",
        "X = np.array([\n",
        "              [\n",
        "               [[1.0, 0.0], [2.0, 1.0]],\n",
        "               [[0.0, -1.0], [-1.0, -2.0]]\n",
        "              ]\n",
        "              ,\n",
        "              [\n",
        "               [[0.0, 1.0], [1.0, -1.0]],\n",
        "               [[-2.0, 2.0], [-1.0, 0.0]]\n",
        "              ]\n",
        "             ])\n",
        "\n",
        "print(\"Shape of X:\", X.shape)\n",
        "layer = ConvolutionalLayer(in_channels=2, out_channels=2, filter_size=2, padding=0)\n",
        "result = layer.forward(X)\n",
        "assert result.shape == (2, 1, 1, 2)"
      ]
    },
    {
      "cell_type": "markdown",
      "metadata": {
        "id": "Gcikh1LeR1t8"
      },
      "source": [
        "## А теперь имплементируем обратный проход\n",
        "Возможно, это самое сложное место в курсе. Дальше будет лучше.\n",
        "\n",
        "Раз выполнение сверточного слоя эквивалентно полносвязному слою для каждого \"пикселя\" выхода, то общий обратный проход эквивалентен обратному проходу каждого из таких \"слоев\".  \n",
        "Градиенты от каждого из этих \"слоев\" в каждом пикселе надо сложить в соответствующие пиксели градиента по входу, а градиенты весов сложить все вместе."
      ]
    },
    {
      "cell_type": "code",
      "execution_count": 6,
      "metadata": {
        "scrolled": false,
        "id": "1K9N0w8yR1t-",
        "colab": {
          "base_uri": "https://localhost:8080/"
        },
        "outputId": "8d4180e1-c89b-457d-a04f-c3b1fec0c222"
      },
      "outputs": [
        {
          "output_type": "stream",
          "name": "stdout",
          "text": [
            "Gradient check passed!\n",
            "Gradient check passed!\n",
            "Gradient check passed!\n"
          ]
        }
      ],
      "source": [
        "# First test - check the shape is right\n",
        "layer = ConvolutionalLayer(in_channels=2, out_channels=2, filter_size=2, padding=0)\n",
        "result = layer.forward(X)\n",
        "d_input = layer.backward(np.ones_like(result))\n",
        "assert d_input.shape == X.shape\n",
        "\n",
        "# Actually test the backward pass\n",
        "# As usual, you'll need to copy gradient check code from the previous assignment\n",
        "layer = ConvolutionalLayer(in_channels=2, out_channels=2, filter_size=2, padding=0)\n",
        "assert check_layer_gradient(layer, X)\n",
        "\n",
        "layer = ConvolutionalLayer(in_channels=2, out_channels=2, filter_size=2, padding=0)\n",
        "assert check_layer_param_gradient(layer, X, 'W')\n",
        "layer = ConvolutionalLayer(in_channels=2, out_channels=2, filter_size=2, padding=0)\n",
        "assert check_layer_param_gradient(layer, X, 'B')"
      ]
    },
    {
      "cell_type": "markdown",
      "metadata": {
        "id": "QS57UnOAR1uA"
      },
      "source": [
        "Осталось реализовать дополнение нулями (padding).   \n",
        "Достаточно дополнить входной тензор нулями по сторонам. Не забудьте учесть это при обратном проходе!"
      ]
    },
    {
      "cell_type": "code",
      "execution_count": 7,
      "metadata": {
        "scrolled": true,
        "id": "XX48xVsbR1uB",
        "colab": {
          "base_uri": "https://localhost:8080/"
        },
        "outputId": "0bf3ff24-fd67-499b-db79-69b4974b58f3"
      },
      "outputs": [
        {
          "output_type": "stream",
          "name": "stdout",
          "text": [
            "Gradient check passed!\n"
          ]
        }
      ],
      "source": [
        "layer = ConvolutionalLayer(in_channels=2, out_channels=2, filter_size=3, padding=1)\n",
        "result = layer.forward(X)\n",
        "# Note this kind of layer produces the same dimensions as input\n",
        "assert result.shape == X.shape,\"Result shape: %s - Expected shape %s\" % (result.shape, X.shape)\n",
        "d_input = layer.backward(np.ones_like(result))\n",
        "assert d_input.shape == X.shape\n",
        "layer = ConvolutionalLayer(in_channels=2, out_channels=2, filter_size=3, padding=1)\n",
        "assert check_layer_gradient(layer, X)"
      ]
    },
    {
      "cell_type": "markdown",
      "metadata": {
        "id": "sRijKgRqR1uD"
      },
      "source": [
        "## После следующего слоя вам уже будет все ни по чем - max pooling\n",
        "\n",
        "Max Pooling - это слой, реализующий операцию максимума для каждого канала отдельно в окресности из `pool_size` \"пикселей\".\n",
        "\n",
        "![image](https://upload.wikimedia.org/wikipedia/commons/e/e9/Max_pooling.png)\n",
        "\n",
        "И напомним что такое stride.  \n",
        "Stride - это на сколько \"пикселей\" сдвигается окно на одном шаге.  \n",
        "Вот здесь, например, stride = 2\n",
        "\n",
        "![image.png](http://deeplearning.net/software/theano/_images/no_padding_strides.gif)\n",
        "\n",
        "На практике, для max pooling значение stride часто равно pool size."
      ]
    },
    {
      "cell_type": "code",
      "execution_count": 11,
      "metadata": {
        "id": "UH06iHYUR1uE",
        "colab": {
          "base_uri": "https://localhost:8080/"
        },
        "outputId": "5f9e034d-4a91-4a12-f8e7-1ba5c575a95a"
      },
      "outputs": [
        {
          "output_type": "stream",
          "name": "stdout",
          "text": [
            "Gradient check passed!\n"
          ]
        }
      ],
      "source": [
        "pool = MaxPoolingLayer(2, 2)\n",
        "result = pool.forward(X)\n",
        "assert result.shape == (2, 1, 1, 2)\n",
        "\n",
        "assert check_layer_gradient(pool, X)"
      ]
    },
    {
      "cell_type": "markdown",
      "metadata": {
        "id": "1s7Kh4NLR1uE"
      },
      "source": [
        "И на закуску - слой, преобразующий четырехмерные тензоры в двумерные.\n",
        "\n",
        "Этот слой понадобится нам, чтобы в конце сети перейти от сверточных слоев к полносвязным."
      ]
    },
    {
      "cell_type": "code",
      "execution_count": 42,
      "metadata": {
        "id": "_CFn1fW7R1uF",
        "colab": {
          "base_uri": "https://localhost:8080/"
        },
        "outputId": "7fa5e3fa-0a9a-4e76-9745-443afdd93c06"
      },
      "outputs": [
        {
          "output_type": "stream",
          "name": "stdout",
          "text": [
            "Gradient check passed!\n"
          ]
        }
      ],
      "source": [
        "flattener = Flattener()\n",
        "result = flattener.forward(X)\n",
        "assert result.shape == (2,8)\n",
        "\n",
        "assert check_layer_gradient(flattener, X)"
      ]
    },
    {
      "cell_type": "markdown",
      "metadata": {
        "id": "3VuwJVvFR1uG"
      },
      "source": [
        "# Теперь есть все кирпичики, создаем модель"
      ]
    },
    {
      "cell_type": "code",
      "execution_count": 46,
      "metadata": {
        "scrolled": false,
        "id": "MdHmzsYZR1uH",
        "colab": {
          "base_uri": "https://localhost:8080/"
        },
        "outputId": "38f11a0b-bb3c-4c9c-b3df-a367ca6b7e06"
      },
      "outputs": [
        {
          "output_type": "stream",
          "name": "stdout",
          "text": [
            "Checking gradient for Conv1_W\n",
            "Gradient check passed!\n",
            "Checking gradient for Conv1_B\n",
            "Gradient check passed!\n",
            "Checking gradient for Conv2_W\n",
            "Gradient check passed!\n",
            "Checking gradient for Conv2_B\n",
            "Gradient check passed!\n",
            "Checking gradient for Fully_W\n",
            "Gradient check passed!\n",
            "Checking gradient for Fully_B\n",
            "Gradient check passed!\n"
          ]
        },
        {
          "output_type": "execute_result",
          "data": {
            "text/plain": [
              "True"
            ]
          },
          "metadata": {},
          "execution_count": 46
        }
      ],
      "source": [
        "# TODO: In model.py, implement missed functions function for ConvNet model\n",
        "\n",
        "# No need to use L2 regularization\n",
        "model = ConvNet(input_shape=(32,32,3), n_output_classes=10, conv1_channels=2, conv2_channels=2)\n",
        "loss = model.compute_loss_and_gradients(train_X[:2], train_y[:2])\n",
        "\n",
        "# TODO Now implement backward pass and aggregate all of the params\n",
        "check_model_gradient(model, train_X[:2], train_y[:2])"
      ]
    },
    {
      "cell_type": "markdown",
      "metadata": {
        "id": "D7gBB8N5R1uI"
      },
      "source": [
        "# Оптимизатор и код для тренировки \n",
        "Должен заработать с кодом из прошлого задания без изменений!"
      ]
    },
    {
      "cell_type": "code",
      "execution_count": 50,
      "metadata": {
        "scrolled": false,
        "id": "AGRL_4qOR1uI",
        "colab": {
          "base_uri": "https://localhost:8080/"
        },
        "outputId": "b8c909ca-48c0-4a05-8ce2-128e42f3bf55"
      },
      "outputs": [
        {
          "output_type": "stream",
          "name": "stdout",
          "text": [
            "Loss: 2.303833, Train accuracy: 0.062500, val accuracy: 0.062500\n",
            "Loss: 2.303601, Train accuracy: 0.062500, val accuracy: 0.062500\n",
            "Loss: 2.303369, Train accuracy: 0.062500, val accuracy: 0.062500\n",
            "Loss: 2.303137, Train accuracy: 0.062500, val accuracy: 0.000000\n",
            "Loss: 2.302906, Train accuracy: 0.062500, val accuracy: 0.000000\n",
            "Loss: 2.302675, Train accuracy: 0.062500, val accuracy: 0.062500\n",
            "Loss: 2.302444, Train accuracy: 0.062500, val accuracy: 0.062500\n",
            "Loss: 2.302213, Train accuracy: 0.062500, val accuracy: 0.062500\n",
            "Loss: 2.301982, Train accuracy: 0.000000, val accuracy: 0.062500\n",
            "Loss: 2.301752, Train accuracy: 0.000000, val accuracy: 0.062500\n",
            "Loss: 2.301522, Train accuracy: 0.000000, val accuracy: 0.062500\n",
            "Loss: 2.301292, Train accuracy: 0.000000, val accuracy: 0.062500\n",
            "Loss: 2.301062, Train accuracy: 0.125000, val accuracy: 0.062500\n",
            "Loss: 2.300832, Train accuracy: 0.125000, val accuracy: 0.125000\n",
            "Loss: 2.300603, Train accuracy: 0.125000, val accuracy: 0.125000\n",
            "Loss: 2.300374, Train accuracy: 0.187500, val accuracy: 0.125000\n",
            "Loss: 2.300145, Train accuracy: 0.250000, val accuracy: 0.125000\n",
            "Loss: 2.299916, Train accuracy: 0.187500, val accuracy: 0.125000\n",
            "Loss: 2.299687, Train accuracy: 0.187500, val accuracy: 0.125000\n",
            "Loss: 2.299459, Train accuracy: 0.187500, val accuracy: 0.062500\n"
          ]
        }
      ],
      "source": [
        "model = ConvNet(input_shape=(32,32,3), n_output_classes=10, conv1_channels=2, conv2_channels=2)\n",
        "dataset = Dataset(train_X[:16], train_y[:16], val_X[:16], val_y[:16])\n",
        "trainer = Trainer(model, dataset, SGD(), batch_size=16, learning_rate=1e-4)\n",
        "\n",
        "loss_history, train_history, val_history = trainer.fit()"
      ]
    },
    {
      "cell_type": "code",
      "execution_count": 51,
      "metadata": {
        "id": "IeDXlM93R1uJ",
        "colab": {
          "base_uri": "https://localhost:8080/",
          "height": 282
        },
        "outputId": "05dff918-fe03-4235-af9a-1416fa156ac3"
      },
      "outputs": [
        {
          "output_type": "execute_result",
          "data": {
            "text/plain": [
              "[<matplotlib.lines.Line2D at 0x7f82c9c346d0>]"
            ]
          },
          "metadata": {},
          "execution_count": 51
        },
        {
          "output_type": "display_data",
          "data": {
            "text/plain": [
              "<Figure size 432x288 with 1 Axes>"
            ],
            "image/png": "[encoded data removed]"
          },
          "metadata": {
            "needs_background": "light"
          }
        }
      ],
      "source": [
        "plt.plot(train_history)\n",
        "plt.plot(val_history)"
      ]
    },
    {
      "cell_type": "markdown",
      "metadata": {
        "id": "O88P98qRR1uK"
      },
      "source": [
        "# Последнее упражнение\n",
        "В качестве последнего упражнения мы доведем точность на тренировочном наборе данных до 100% на небольшом наборе данных.\n",
        "Сверточные сети требуют большого количества вычислений и аккуратной эффективной реализации, поэтому настоящие модели мы будем тренировать уже на PyTorch в следующем задании."
      ]
    },
    {
      "cell_type": "markdown",
      "metadata": {
        "id": "5rrEHwqcR1uL"
      },
      "source": [
        "## Итак, оверфитим маленький набор данных\n"
      ]
    },
    {
      "cell_type": "code",
      "execution_count": 62,
      "metadata": {
        "id": "8l-QjYAlR1uL",
        "colab": {
          "base_uri": "https://localhost:8080/"
        },
        "outputId": "c7942506-5e53-4528-f89e-65c629b68d04"
      },
      "outputs": [
        {
          "output_type": "stream",
          "name": "stdout",
          "text": [
            "Loss: 19.075846, Train accuracy: 0.187500, val accuracy: 0.179688\n",
            "Loss: 17.757324, Train accuracy: 0.164062, val accuracy: 0.156250\n",
            "Loss: 14.662522, Train accuracy: 0.218750, val accuracy: 0.117188\n",
            "Loss: 29.085356, Train accuracy: 0.171875, val accuracy: 0.218750\n",
            "Loss: 15.513209, Train accuracy: 0.210938, val accuracy: 0.109375\n",
            "Loss: 8.542430, Train accuracy: 0.210938, val accuracy: 0.179688\n",
            "Loss: 8.200176, Train accuracy: 0.210938, val accuracy: 0.093750\n",
            "Loss: 6.518988, Train accuracy: 0.296875, val accuracy: 0.132812\n",
            "Loss: 12.613082, Train accuracy: 0.359375, val accuracy: 0.187500\n",
            "Loss: 9.013090, Train accuracy: 0.437500, val accuracy: 0.234375\n",
            "Loss: 5.652441, Train accuracy: 0.367188, val accuracy: 0.062500\n",
            "Loss: 4.349767, Train accuracy: 0.562500, val accuracy: 0.140625\n",
            "Loss: 2.817460, Train accuracy: 0.562500, val accuracy: 0.226562\n",
            "Loss: 1.636584, Train accuracy: 0.554688, val accuracy: 0.125000\n",
            "Loss: 2.921457, Train accuracy: 0.734375, val accuracy: 0.179688\n",
            "Loss: 1.230240, Train accuracy: 0.585938, val accuracy: 0.156250\n",
            "Loss: 2.922017, Train accuracy: 0.656250, val accuracy: 0.140625\n",
            "Loss: 1.550100, Train accuracy: 0.687500, val accuracy: 0.242188\n",
            "Loss: 0.669996, Train accuracy: 0.765625, val accuracy: 0.148438\n",
            "Loss: 0.581271, Train accuracy: 0.765625, val accuracy: 0.156250\n",
            "Loss: 0.437962, Train accuracy: 0.820312, val accuracy: 0.210938\n",
            "Loss: 1.290706, Train accuracy: 0.796875, val accuracy: 0.203125\n",
            "Loss: 0.432490, Train accuracy: 0.835938, val accuracy: 0.242188\n",
            "Loss: 0.444628, Train accuracy: 0.960938, val accuracy: 0.148438\n",
            "Loss: 0.541336, Train accuracy: 0.929688, val accuracy: 0.171875\n",
            "Loss: 0.456070, Train accuracy: 0.968750, val accuracy: 0.171875\n",
            "Loss: 0.110271, Train accuracy: 0.906250, val accuracy: 0.156250\n",
            "Loss: 0.391361, Train accuracy: 0.875000, val accuracy: 0.234375\n",
            "Loss: 0.278567, Train accuracy: 0.921875, val accuracy: 0.250000\n",
            "Loss: 0.252297, Train accuracy: 0.929688, val accuracy: 0.132812\n",
            "Loss: 0.882411, Train accuracy: 0.945312, val accuracy: 0.234375\n",
            "Loss: 0.366840, Train accuracy: 0.968750, val accuracy: 0.156250\n",
            "Loss: 0.735823, Train accuracy: 0.953125, val accuracy: 0.140625\n",
            "Loss: 0.648190, Train accuracy: 0.898438, val accuracy: 0.234375\n",
            "Loss: 0.133217, Train accuracy: 0.929688, val accuracy: 0.179688\n",
            "Loss: 0.387207, Train accuracy: 0.914062, val accuracy: 0.195312\n",
            "Loss: 0.140522, Train accuracy: 0.859375, val accuracy: 0.171875\n",
            "Loss: 0.295661, Train accuracy: 0.984375, val accuracy: 0.218750\n",
            "Loss: 0.115701, Train accuracy: 0.984375, val accuracy: 0.171875\n",
            "Loss: 0.168309, Train accuracy: 0.992188, val accuracy: 0.234375\n",
            "Loss: 0.176985, Train accuracy: 0.992188, val accuracy: 0.195312\n",
            "Loss: 0.297357, Train accuracy: 0.992188, val accuracy: 0.164062\n",
            "Loss: 0.119682, Train accuracy: 0.992188, val accuracy: 0.179688\n",
            "Loss: 0.070929, Train accuracy: 0.992188, val accuracy: 0.179688\n",
            "Loss: 0.095476, Train accuracy: 1.000000, val accuracy: 0.203125\n",
            "Loss: 0.063106, Train accuracy: 0.992188, val accuracy: 0.171875\n",
            "Loss: 0.084066, Train accuracy: 1.000000, val accuracy: 0.203125\n",
            "Loss: 0.237353, Train accuracy: 0.992188, val accuracy: 0.164062\n",
            "Loss: 0.138345, Train accuracy: 1.000000, val accuracy: 0.187500\n",
            "Loss: 0.074443, Train accuracy: 1.000000, val accuracy: 0.179688\n"
          ]
        }
      ],
      "source": [
        "data_size = 128\n",
        "model = ConvNet(input_shape=(32,32,3), n_output_classes=10, conv1_channels=64, conv2_channels=128)\n",
        "dataset = Dataset(train_X[:data_size], train_y[:data_size], val_X[:data_size], val_y[:data_size])\n",
        "# TODO: Change any hyperparamers or optimizators to reach 1.0 training accuracy in 50 epochs or less\n",
        "# Hint: If you have hard time finding the right parameters manually, try grid search or random search!\n",
        "trainer = Trainer(model, dataset, MomentumSGD(), learning_rate=1e-4, num_epochs=50, batch_size=16, \n",
        "                  learning_rate_decay=0.97)\n",
        "\n",
        "loss_history, train_history, val_history = trainer.fit()"
      ]
    },
    {
      "cell_type": "code",
      "execution_count": 63,
      "metadata": {
        "id": "YV-6SU0vR1uM",
        "colab": {
          "base_uri": "https://localhost:8080/",
          "height": 282
        },
        "outputId": "fb62bc4d-61b5-4bad-84ce-45b18fabc515"
      },
      "outputs": [
        {
          "output_type": "execute_result",
          "data": {
            "text/plain": [
              "[<matplotlib.lines.Line2D at 0x7f82c71edad0>]"
            ]
          },
          "metadata": {},
          "execution_count": 63
        },
        {
          "output_type": "display_data",
          "data": {
            "text/plain": [
              "<Figure size 432x288 with 1 Axes>"
            ],
            "image/png": "[encoded data removed]"
          },
          "metadata": {
            "needs_background": "light"
          }
        }
      ],
      "source": [
        "plt.plot(train_history)\n",
        "plt.plot(val_history)"
      ]
    },
    {
      "cell_type": "markdown",
      "metadata": {
        "id": "pm8tvQhuR1uN"
      },
      "source": [
        "Дальнейшие упражнения - уже на PyTorch, открывайте следующий notebook!\n",
        "\n",
        "![image.png](attachment:image.png)"
      ]
    },
    {
      "cell_type": "code",
      "execution_count": null,
      "metadata": {
        "id": "7AaI88tjR1uN"
      },
      "outputs": [],
      "source": [
        ""
      ]
    }
  ],
  "metadata": {
    "kernelspec": {
      "display_name": "Python 3",
      "language": "python",
      "name": "python3"
    },
    "language_info": {
      "codemirror_mode": {
        "name": "ipython",
        "version": 3
      },
      "file_extension": ".py",
      "mimetype": "text/x-python",
      "name": "python",
      "nbconvert_exporter": "python",
      "pygments_lexer": "ipython3",
      "version": "3.7.0"
    },
    "colab": {
      "name": "CNN.ipynb",
      "provenance": [],
      "collapsed_sections": []
    }
  },
  "nbformat": 4,
  "nbformat_minor": 0
}