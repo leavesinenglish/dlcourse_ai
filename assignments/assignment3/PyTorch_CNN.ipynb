{
 "cells": [
  {
   "cell_type": "markdown",
   "metadata": {
    "id": "TkHfEe6WsOmZ"
   },
   "source": [
    "# Задание 3.2 - сверточные нейронные сети (CNNs) в PyTorch\n",
    "\n",
    "Это упражнение мы буде выполнять в Google Colab - https://colab.research.google.com/  \n",
    "Google Colab позволяет запускать код в notebook в облаке Google, где можно воспользоваться бесплатным GPU!  \n",
    "\n",
    "Авторы курса благодарят компанию Google и надеятся, что праздник не закончится.\n",
    "\n",
    "Туториал по настройке Google Colab:  \n",
    "https://medium.com/deep-learning-turkey/google-colab-free-gpu-tutorial-e113627b9f5d  \n",
    "(Keras инсталлировать не нужно, наш notebook сам установит PyTorch)\n"
   ]
  },
  {
   "cell_type": "code",
   "execution_count": 2,
   "metadata": {
    "colab": {
     "base_uri": "https://localhost:8080/"
    },
    "id": "FcXBeP1O7cnY",
    "outputId": "e18bcd23-7d74-4309-e17e-494abd7073ac"
   },
   "outputs": [
    {
     "name": "stdout",
     "output_type": "stream",
     "text": [
      "Requirement already satisfied: torch in c:\\virtualenv\\lib\\site-packages (1.11.0+cu113)\n",
      "Requirement already satisfied: torchvision in c:\\virtualenv\\lib\\site-packages (0.12.0+cu113)\n",
      "Requirement already satisfied: typing-extensions in c:\\virtualenv\\lib\\site-packages (from torch) (4.1.1)\n",
      "Requirement already satisfied: pillow!=8.3.*,>=5.3.0 in c:\\virtualenv\\lib\\site-packages (from torchvision) (9.0.1)\n",
      "Requirement already satisfied: numpy in c:\\virtualenv\\lib\\site-packages (from torchvision) (1.22.3)\n",
      "Requirement already satisfied: requests in c:\\virtualenv\\lib\\site-packages (from torchvision) (2.27.1)\n",
      "Requirement already satisfied: certifi>=2017.4.17 in c:\\virtualenv\\lib\\site-packages (from requests->torchvision) (2021.10.8)\n",
      "Requirement already satisfied: urllib3<1.27,>=1.21.1 in c:\\virtualenv\\lib\\site-packages (from requests->torchvision) (1.26.8)\n",
      "Requirement already satisfied: idna<4,>=2.5 in c:\\virtualenv\\lib\\site-packages (from requests->torchvision) (3.3)\n",
      "Requirement already satisfied: charset-normalizer~=2.0.0 in c:\\virtualenv\\lib\\site-packages (from requests->torchvision) (2.0.12)\n"
     ]
    },
    {
     "name": "stderr",
     "output_type": "stream",
     "text": [
      "\"wget\" ­Ґ пў«пҐвбп ў­гваҐ­­Ґ© Ё«Ё ў­Ґи­Ґ©\n",
      "Є®¬ ­¤®©, ЁбЇ®«­пҐ¬®© Їа®Ја ¬¬®© Ё«Ё Ї ЄҐв­л¬ д ©«®¬.\n"
     ]
    }
   ],
   "source": [
    "# Intstall PyTorch and download data\n",
    "!pip3 install torch torchvision\n",
    "\n",
    "!wget -c http://ufldl.stanford.edu/housenumbers/train_32x32.mat http://ufldl.stanford.edu/housenumbers/test_32x32.mat"
   ]
  },
  {
   "cell_type": "code",
   "execution_count": 3,
   "metadata": {
    "id": "-afwWw-Q85vD"
   },
   "outputs": [],
   "source": [
    "from collections import namedtuple\n",
    "\n",
    "import matplotlib.pyplot as plt\n",
    "import numpy as np\n",
    "import PIL\n",
    "import torch\n",
    "import torch.nn as nn\n",
    "import torch.optim as optim\n",
    "import torchvision.datasets as dset\n",
    "from torch.utils.data.sampler import SubsetRandomSampler\n",
    "\n",
    "from torchvision import transforms"
   ]
  },
  {
   "cell_type": "code",
   "execution_count": 4,
   "metadata": {
    "id": "NNU-OD9O9ltP"
   },
   "outputs": [],
   "source": [
    "device = torch.device(\"cuda:0\") # Let's make sure GPU is available!"
   ]
  },
  {
   "cell_type": "markdown",
   "metadata": {
    "id": "JWBqN5w_sOmy"
   },
   "source": [
    "# Загружаем данные"
   ]
  },
  {
   "cell_type": "code",
   "execution_count": 5,
   "metadata": {
    "id": "YAvkoRx-9FsP"
   },
   "outputs": [],
   "source": [
    "# First, lets load the dataset\n",
    "data_train = dset.SVHN('./', \n",
    "                       transform=transforms.Compose([\n",
    "                           transforms.ToTensor(),\n",
    "                           transforms.Normalize(mean=[0.43,0.44,0.47],\n",
    "                                               std=[0.20,0.20,0.20])                           \n",
    "                       ])\n",
    "                      )\n",
    "data_test = dset.SVHN('./', split='test', transform=transforms.Compose([\n",
    "                           transforms.ToTensor(),\n",
    "                           transforms.Normalize(mean=[0.43,0.44,0.47],\n",
    "                                               std=[0.20,0.20,0.20])                           \n",
    "                       ]))"
   ]
  },
  {
   "cell_type": "markdown",
   "metadata": {
    "id": "ZghqPADdsOm4"
   },
   "source": [
    "Разделяем данные на training и validation.\n",
    "\n",
    "На всякий случай для подробностей - https://pytorch.org/tutorials/beginner/data_loading_tutorial.html"
   ]
  },
  {
   "cell_type": "code",
   "execution_count": 6,
   "metadata": {
    "id": "YRnr8CPg7Hli"
   },
   "outputs": [],
   "source": [
    "batch_size = 64\n",
    "\n",
    "data_size = data_train.data.shape[0]\n",
    "validation_split = .2\n",
    "split = int(np.floor(validation_split * data_size))\n",
    "indices = list(range(data_size))\n",
    "np.random.shuffle(indices)\n",
    "\n",
    "train_indices, val_indices = indices[split:], indices[:split]\n",
    "\n",
    "train_sampler = SubsetRandomSampler(train_indices)\n",
    "val_sampler = SubsetRandomSampler(val_indices)\n",
    "\n",
    "train_loader = torch.utils.data.DataLoader(data_train, batch_size=batch_size, \n",
    "                                           sampler=train_sampler)\n",
    "val_loader = torch.utils.data.DataLoader(data_train, batch_size=batch_size,\n",
    "                                         sampler=val_sampler)"
   ]
  },
  {
   "cell_type": "code",
   "execution_count": 7,
   "metadata": {
    "id": "LyYvt-T67PBG"
   },
   "outputs": [],
   "source": [
    "# We'll use a special helper module to shape it into a flat tensor\n",
    "class Flattener(nn.Module):\n",
    "    def forward(self, x):\n",
    "        batch_size, *_ = x.shape\n",
    "        return x.view(batch_size, -1)"
   ]
  },
  {
   "cell_type": "markdown",
   "metadata": {
    "id": "v2mAad-BsOnA"
   },
   "source": [
    "Создадим простейшую сеть с новыми слоями:  \n",
    "Convolutional - `nn.Conv2d`  \n",
    "MaxPool - `nn.MaxPool2d`"
   ]
  },
  {
   "cell_type": "code",
   "execution_count": 8,
   "metadata": {
    "id": "w9SFVGZP7SQd"
   },
   "outputs": [],
   "source": [
    "nn_model = nn.Sequential(\n",
    "            nn.Conv2d(3, 64, 3, padding=1),\n",
    "            nn.ReLU(inplace=True),\n",
    "            nn.MaxPool2d(4),\n",
    "            nn.Conv2d(64, 64, 3, padding=1),\n",
    "            nn.ReLU(inplace=True),\n",
    "            nn.MaxPool2d(4),    \n",
    "            Flattener(),\n",
    "            nn.Linear(64*2*2, 10),\n",
    "          )\n",
    "\n",
    "nn_model.type(torch.cuda.FloatTensor)\n",
    "nn_model.to(device)\n",
    "\n",
    "loss = nn.CrossEntropyLoss().type(torch.cuda.FloatTensor)\n",
    "optimizer = optim.SGD(nn_model.parameters(), lr=1e-1, weight_decay=1e-4)"
   ]
  },
  {
   "cell_type": "markdown",
   "metadata": {
    "id": "Huq_c1xRsOnD"
   },
   "source": [
    "Восстановите функцию `compute_accuracy` из прошлого задания.  \n",
    "Единственное отличие в новом - она должна передать данные на GPU прежде чем прогонять через модель. Сделайте это так же, как это делает функция `train_model`"
   ]
  },
  {
   "cell_type": "code",
   "execution_count": 9,
   "metadata": {
    "colab": {
     "base_uri": "https://localhost:8080/"
    },
    "id": "2ek3KVQK7hJ6",
    "outputId": "c0025a80-c9ae-477c-928d-8b55aaab0da4"
   },
   "outputs": [
    {
     "name": "stdout",
     "output_type": "stream",
     "text": [
      "Average loss: 1.416767, Train accuracy: 0.524417, Val accuracy: 0.768207\n",
      "Average loss: 0.678853, Train accuracy: 0.795482, Val accuracy: 0.810115\n",
      "Average loss: 0.578624, Train accuracy: 0.827458, Val accuracy: 0.796260\n",
      "Average loss: 0.536145, Train accuracy: 0.841347, Val accuracy: 0.818920\n",
      "Average loss: 0.501530, Train accuracy: 0.852950, Val accuracy: 0.827589\n"
     ]
    }
   ],
   "source": [
    "def train_model(model, train_loader, val_loader, loss, optimizer, num_epochs, scheduler=None):    \n",
    "    loss_history = []\n",
    "    train_history = []\n",
    "    val_history = []\n",
    "    for epoch in range(num_epochs):\n",
    "        model.train() # Enter train mode\n",
    "        \n",
    "        loss_accum = 0\n",
    "        correct_samples = 0\n",
    "        total_samples = 0\n",
    "        for i_step, (x, y) in enumerate(train_loader):\n",
    "          \n",
    "            x_gpu = x.to(device)\n",
    "            y_gpu = y.to(device)\n",
    "            prediction = model(x_gpu)    \n",
    "            loss_value = loss(prediction, y_gpu)\n",
    "            optimizer.zero_grad()\n",
    "            loss_value.backward()\n",
    "            optimizer.step()\n",
    "            \n",
    "            _, indices = torch.max(prediction, 1)\n",
    "            correct_samples += torch.sum(indices == y_gpu)\n",
    "            total_samples += y.shape[0]\n",
    "            \n",
    "            loss_accum += loss_value\n",
    "\n",
    "        ave_loss = loss_accum / i_step\n",
    "        train_accuracy = float(correct_samples) / total_samples\n",
    "        val_accuracy = compute_accuracy(model, val_loader)\n",
    "        if scheduler is not None:\n",
    "            scheduler.step(ave_loss)\n",
    "\n",
    "        loss_history.append(float(ave_loss))\n",
    "        train_history.append(train_accuracy)\n",
    "        val_history.append(val_accuracy)\n",
    "        \n",
    "        print(\"Average loss: %f, Train accuracy: %f, Val accuracy: %f\" % (ave_loss, train_accuracy, val_accuracy))\n",
    "        \n",
    "    return loss_history, train_history, val_history\n",
    "        \n",
    "def compute_accuracy(model, loader):\n",
    "    \"\"\"\n",
    "    Computes accuracy on the dataset wrapped in a loader\n",
    "    \n",
    "    Returns: accuracy as a float value between 0 and 1\n",
    "    \"\"\"\n",
    "    model.eval() # Evaluation mode\n",
    "    correct = 0\n",
    "    total = 0\n",
    "    with torch.no_grad():\n",
    "        for i_step, (x, y) in enumerate(loader):\n",
    "            x_gpu = x.to(device)\n",
    "            y_gpu = y.to(device)\n",
    "            prediction = torch.argmax(model(x_gpu), 1)\n",
    "            for i in range(len(prediction)):\n",
    "                if prediction[i] == y_gpu[i]:\n",
    "                    correct += 1\n",
    "            total += len(prediction)\n",
    "\n",
    "    return float(correct / total)\n",
    "\n",
    "loss_history, train_history, val_history = train_model(nn_model, train_loader, val_loader, loss, optimizer, 5)"
   ]
  },
  {
   "cell_type": "code",
   "source": [
    "plt.plot(train_history)\n",
    "plt.plot(val_history)\n",
    "plt.show()\n",
    "plt.plot(loss_history)"
   ],
   "metadata": {
    "colab": {
     "base_uri": "https://localhost:8080/",
     "height": 530
    },
    "id": "vibm2gfMFnp1",
    "outputId": "7be7dfdb-8304-4570-e25a-bc0edaaedca6"
   },
   "execution_count": 10,
   "outputs": [
    {
     "data": {
      "text/plain": "<Figure size 432x288 with 1 Axes>",
      "image/png": "[encoded data removed]"
     },
     "metadata": {
      "needs_background": "light"
     },
     "output_type": "display_data"
    },
    {
     "data": {
      "text/plain": "[<matplotlib.lines.Line2D at 0x1dbc063a860>]"
     },
     "execution_count": 10,
     "metadata": {},
     "output_type": "execute_result"
    },
    {
     "data": {
      "text/plain": "<Figure size 432x288 with 1 Axes>",
      "image/png": "[encoded data removed]"
     },
     "metadata": {
      "needs_background": "light"
     },
     "output_type": "display_data"
    }
   ]
  },
  {
   "cell_type": "markdown",
   "metadata": {
    "id": "6a-3a1ZFGEw_"
   },
   "source": [
    "# Аугментация данных (Data augmentation)\n",
    "\n",
    "В работе с изображениями одним из особенно важных методов является аугментация данных - то есть, генерация дополнительных данных для тренировки на основе изначальных.   \n",
    "Таким образом, мы получаем возможность \"увеличить\" набор данных для тренировки, что ведет к лучшей работе сети.\n",
    "Важно, чтобы аугментированные данные были похожи на те, которые могут встретиться в реальной жизни, иначе польза от аугментаций уменьшается и может ухудшить работу сети.\n",
    "\n",
    "С PyTorch идут несколько таких алгоритмов, называемых `transforms`. Более подробно про них можно прочитать тут -\n",
    "https://pytorch.org/tutorials/beginner/data_loading_tutorial.html#transforms\n",
    "\n",
    "Ниже мы используем следующие алгоритмы генерации:\n",
    "- ColorJitter - случайное изменение цвета\n",
    "- RandomHorizontalFlip - горизонтальное отражение с вероятностью 50%\n",
    "- RandomVerticalFlip - вертикальное отражение с вероятностью 50%\n",
    "- RandomRotation - случайный поворот"
   ]
  },
  {
   "cell_type": "code",
   "execution_count": 13,
   "metadata": {
    "colab": {
     "base_uri": "https://localhost:8080/"
    },
    "id": "jCWMUWmr7t5g",
    "outputId": "9c831931-0b22-4419-81c8-ecfe63e662e0"
   },
   "outputs": [
    {
     "output_type": "stream",
     "name": "stderr",
     "text": [
      "/usr/local/lib/python3.7/dist-packages/torchvision/transforms/transforms.py:1249: UserWarning: Argument resample is deprecated and will be removed since v0.10.0. Please, use interpolation instead\n",
      "  \"Argument resample is deprecated and will be removed since v0.10.0. Please, use interpolation instead\"\n"
     ]
    }
   ],
   "source": [
    "tfs = transforms.Compose([\n",
    "    transforms.ColorJitter(hue=.50, saturation=.50),\n",
    "    transforms.RandomHorizontalFlip(),\n",
    "    transforms.RandomVerticalFlip(),\n",
    "    transforms.RandomRotation(50, resample=PIL.Image.BILINEAR),\n",
    "    transforms.ToTensor(),\n",
    "    transforms.Normalize(mean=[0.43,0.44,0.47],\n",
    "                       std=[0.20,0.20,0.20])                           \n",
    "])\n",
    "\n",
    "# Create augmented train dataset\n",
    "data_aug_train = dset.SVHN('./', \n",
    "                       transform=tfs\n",
    "                      )\n",
    "\n",
    "train_aug_loader = torch.utils.data.DataLoader(data_aug_train, batch_size=batch_size, \n",
    "                                           sampler=train_sampler)"
   ]
  },
  {
   "cell_type": "markdown",
   "metadata": {
    "id": "giYJy4qAsOnJ"
   },
   "source": [
    "Визуализируем результаты агментации (вообще, смотреть на сгенерированные данные всегда очень полезно)."
   ]
  },
  {
   "cell_type": "code",
   "execution_count": 35,
   "metadata": {
    "colab": {
     "base_uri": "https://localhost:8080/",
     "height": 174
    },
    "id": "YlJJEro1KZ45",
    "outputId": "9e310a54-ff34-4a5a-dabc-27d5a38d506d"
   },
   "outputs": [
    {
     "output_type": "stream",
     "name": "stderr",
     "text": [
      "/usr/local/lib/python3.7/dist-packages/torchvision/transforms/transforms.py:1249: UserWarning: Argument resample is deprecated and will be removed since v0.10.0. Please, use interpolation instead\n",
      "  \"Argument resample is deprecated and will be removed since v0.10.0. Please, use interpolation instead\"\n"
     ]
    },
    {
     "output_type": "display_data",
     "data": {
      "text/plain": [
       "<Figure size 2160x216 with 10 Axes>"
      ],
      "image/png": "[encoded data removed]"
     },
     "metadata": {
      "needs_background": "light"
     }
    }
   ],
   "source": [
    "# TODO: Visualize some augmented images!\n",
    "# hint: you can create new datasets and loaders to accomplish this\n",
    "\n",
    "# Based on the visualizations, should we keep all the augmentations?\n",
    "\n",
    "tfs = transforms.Compose([\n",
    "    transforms.ColorJitter(hue=.20, saturation=.20),\n",
    "    transforms.RandomHorizontalFlip(),\n",
    "    transforms.RandomVerticalFlip(),\n",
    "    transforms.RandomRotation(10, resample=PIL.Image.BILINEAR),\n",
    "])\n",
    "\n",
    "data_aug_vis = dset.SVHN('./', \n",
    "                       transform=tfs\n",
    "                      )\n",
    "\n",
    "plt.figure(figsize=(30, 3))\n",
    "\n",
    "for i, (x, y) in enumerate(data_aug_vis):\n",
    "    if i == 10:\n",
    "        break\n",
    "    plt.subplot(1, 10, i+1)\n",
    "    plt.grid(False)\n",
    "    plt.imshow(x)\n",
    "    plt.axis('off')"
   ]
  },
  {
   "cell_type": "markdown",
   "metadata": {
    "id": "o2LrmsYHoguB"
   },
   "source": [
    "Все ли агментации одинаково полезны на этом наборе данных? Могут ли быть среди них те, которые собьют модель с толку?\n",
    "\n",
    "Выберите из них только корректные"
   ]
  },
  {
   "cell_type": "code",
   "execution_count": 12,
   "metadata": {
    "colab": {
     "base_uri": "https://localhost:8080/"
    },
    "id": "evro9ksXGs9u",
    "outputId": "6a84586f-5b9e-4a8e-de26-32c2f2be4235"
   },
   "outputs": [
    {
     "name": "stderr",
     "output_type": "stream",
     "text": [
      "c:\\virtualenv\\lib\\site-packages\\torchvision\\transforms\\transforms.py:1292: UserWarning: The parameter 'resample' is deprecated since 0.12 and will be removed 0.14. Please use 'interpolation' instead.\n",
      "  warnings.warn(\n"
     ]
    }
   ],
   "source": [
    "# TODO: \n",
    "tfs = transforms.Compose([\n",
    "    # TODO: Add good augmentations\n",
    "    transforms.ColorJitter(hue=.20, saturation=.20),\n",
    "    transforms.RandomRotation(10, resample=PIL.Image.BILINEAR),\n",
    "    transforms.ToTensor(),\n",
    "    transforms.Normalize(mean=[0.43,0.44,0.47],\n",
    "                       std=[0.20,0.20,0.20])                           \n",
    "])\n",
    "\n",
    "data_aug = dset.SVHN('./', \n",
    "                       transform=tfs\n",
    "                      )\n",
    "\n",
    "# TODO create new instances of loaders with the augmentations you chose\n",
    "train_aug_loader = train_aug_loader = torch.utils.data.DataLoader(data_aug, batch_size=batch_size, \n",
    "                                           sampler=train_sampler)"
   ]
  },
  {
   "cell_type": "code",
   "execution_count": 37,
   "metadata": {
    "colab": {
     "base_uri": "https://localhost:8080/"
    },
    "id": "PeO6Zw0DHqPR",
    "outputId": "7b0e0a99-2a05-4134-a4b6-330ba7cb8ddd"
   },
   "outputs": [
    {
     "output_type": "stream",
     "name": "stdout",
     "text": [
      "Average loss: 0.610288, Train accuracy: 0.813825, Val accuracy: 0.822401\n",
      "Average loss: 0.561487, Train accuracy: 0.829488, Val accuracy: 0.851341\n",
      "Average loss: 0.543045, Train accuracy: 0.835000, Val accuracy: 0.846905\n",
      "Average loss: 0.525636, Train accuracy: 0.840716, Val accuracy: 0.831138\n",
      "Average loss: 0.513857, Train accuracy: 0.843924, Val accuracy: 0.833936\n"
     ]
    }
   ],
   "source": [
    "# Finally, let's train with augmentations!\n",
    "\n",
    "# Note we shouldn't use augmentations on validation\n",
    "\n",
    "loss_history, train_history, val_history = train_model(nn_model, train_aug_loader, val_loader, loss, optimizer, 5)"
   ]
  },
  {
   "cell_type": "code",
   "source": [
    "plt.plot(train_history)\n",
    "plt.plot(val_history)\n",
    "plt.show()\n",
    "plt.plot(loss_history)"
   ],
   "metadata": {
    "colab": {
     "base_uri": "https://localhost:8080/",
     "height": 530
    },
    "id": "pqhxXBSXghEH",
    "outputId": "9662c45e-2f6d-4433-8635-f9fded58d752"
   },
   "execution_count": 38,
   "outputs": [
    {
     "output_type": "display_data",
     "data": {
      "text/plain": [
       "<Figure size 432x288 with 1 Axes>"
      ],
      "image/png": "[encoded data removed]"
     },
     "metadata": {
      "needs_background": "light"
     }
    },
    {
     "output_type": "execute_result",
     "data": {
      "text/plain": [
       "[<matplotlib.lines.Line2D at 0x7f6db33e52d0>]"
      ]
     },
     "metadata": {},
     "execution_count": 38
    },
    {
     "output_type": "display_data",
     "data": {
      "text/plain": [
       "<Figure size 432x288 with 1 Axes>"
      ],
      "image/png": "[encoded data removed]"
     },
     "metadata": {
      "needs_background": "light"
     }
    }
   ]
  },
  {
   "cell_type": "markdown",
   "metadata": {
    "id": "r0bcioK6JBDK"
   },
   "source": [
    "# LeNet\n",
    "Попробуем имплементировать классическую архитектуру сверточной нейронной сети, предложенную Яном ЛеКуном в 1998 году. В свое время она достигла впечатляющих результатов на MNIST, посмотрим как она справится с SVHN?\n",
    "Она описана в статье [\"Gradient Based Learning Applied to Document Recognition\"](http://yann.lecun.com/exdb/publis/pdf/lecun-01a.pdf), попробуйте прочитать ключевые части и имплементировать предложенную архитетуру на PyTorch.\n",
    "\n",
    "Реализовывать слои и функцию ошибки LeNet, которых нет в PyTorch, **не нужно** - просто возьмите их размеры и переведите в уже известные нам Convolutional, Pooling и Fully Connected layers.\n",
    "\n",
    "Если в статье не очень понятно, можно просто погуглить LeNet и разобраться в деталях :)"
   ]
  },
  {
   "cell_type": "code",
   "execution_count": 39,
   "metadata": {
    "id": "ieEzZUglJAUB"
   },
   "outputs": [],
   "source": [
    "# TODO: Implement LeNet-like architecture for SVHN task\n",
    "lenet_model = nn.Sequential(\n",
    "  nn.Conv2d(in_channels=3, out_channels=6, kernel_size=5, stride=1),\n",
    "  nn.ReLU(),\n",
    "  nn.MaxPool2d(kernel_size=2, stride=2),\n",
    "  nn.Conv2d(in_channels=6, out_channels=16, kernel_size=5, stride=1),\n",
    "  nn.ReLU(),\n",
    "  nn.MaxPool2d(kernel_size=2, stride=2), \n",
    "  nn.Conv2d(in_channels=16, out_channels=120, kernel_size=5, stride=1),\n",
    "  nn.ReLU(),\n",
    "  Flattener(),\n",
    "  nn.ReLU(),\n",
    "  nn.Linear(in_features=120, out_features=84),\n",
    "  nn.ReLU(),\n",
    "  nn.Linear(in_features=84, out_features=10),\n",
    ")\n",
    "\n",
    "lenet_model.type(torch.cuda.FloatTensor)\n",
    "lenet_model.to(device)\n",
    "\n",
    "loss = nn.CrossEntropyLoss().type(torch.cuda.FloatTensor)\n",
    "optimizer = optim.SGD(lenet_model.parameters(), lr=1e-1, weight_decay=1e-4)"
   ]
  },
  {
   "cell_type": "code",
   "execution_count": 40,
   "metadata": {
    "colab": {
     "base_uri": "https://localhost:8080/"
    },
    "id": "WMmaPfdeKk9H",
    "outputId": "61700e56-180c-433b-874a-51635aad0c87"
   },
   "outputs": [
    {
     "output_type": "stream",
     "name": "stdout",
     "text": [
      "Average loss: 1.515749, Train accuracy: 0.480650, Val accuracy: 0.806498\n",
      "Average loss: 0.595215, Train accuracy: 0.823465, Val accuracy: 0.845540\n",
      "Average loss: 0.479458, Train accuracy: 0.857455, Val accuracy: 0.874548\n",
      "Average loss: 0.423351, Train accuracy: 0.874126, Val accuracy: 0.879735\n",
      "Average loss: 0.383741, Train accuracy: 0.884346, Val accuracy: 0.892704\n",
      "Average loss: 0.358880, Train accuracy: 0.892349, Val accuracy: 0.899393\n",
      "Average loss: 0.336427, Train accuracy: 0.898713, Val accuracy: 0.897208\n",
      "Average loss: 0.317887, Train accuracy: 0.905232, Val accuracy: 0.895775\n",
      "Average loss: 0.308699, Train accuracy: 0.906904, Val accuracy: 0.897754\n",
      "Average loss: 0.297130, Train accuracy: 0.910368, Val accuracy: 0.889564\n"
     ]
    }
   ],
   "source": [
    "# Let's train it!\n",
    "loss_history, train_history, val_history = train_model(lenet_model, train_aug_loader, val_loader, loss, optimizer, 10)"
   ]
  },
  {
   "cell_type": "code",
   "source": [
    "plt.plot(train_history)\n",
    "plt.plot(val_history)\n",
    "plt.show()\n",
    "plt.plot(loss_history)"
   ],
   "metadata": {
    "colab": {
     "base_uri": "https://localhost:8080/",
     "height": 530
    },
    "id": "duX5JVtWqzvp",
    "outputId": "58107cb4-1f7e-4cf0-c1bb-3f4bc7a1716f"
   },
   "execution_count": 41,
   "outputs": [
    {
     "output_type": "display_data",
     "data": {
      "text/plain": [
       "<Figure size 432x288 with 1 Axes>"
      ],
      "image/png": "[encoded data removed]"
     },
     "metadata": {
      "needs_background": "light"
     }
    },
    {
     "output_type": "execute_result",
     "data": {
      "text/plain": [
       "[<matplotlib.lines.Line2D at 0x7f6db3077a50>]"
      ]
     },
     "metadata": {},
     "execution_count": 41
    },
    {
     "output_type": "display_data",
     "data": {
      "text/plain": [
       "<Figure size 432x288 with 1 Axes>"
      ],
      "image/png": "[encoded data removed]"
     },
     "metadata": {
      "needs_background": "light"
     }
    }
   ]
  },
  {
   "cell_type": "markdown",
   "metadata": {
    "id": "u_O9qiYySvuj"
   },
   "source": [
    "# Подбор гиперпараметров"
   ]
  },
  {
   "cell_type": "code",
   "execution_count": 13,
   "metadata": {
    "colab": {
     "base_uri": "https://localhost:8080/"
    },
    "id": "i6mhfdQ9K-N3",
    "outputId": "6fc042df-3f1e-4f00-f42a-18d15d77000a"
   },
   "outputs": [
    {
     "name": "stdout",
     "output_type": "stream",
     "text": [
      "Learing rate:  0.01 ; RegStr:  0.001\n",
      "Average loss: 0.973386, Train accuracy: 0.684128, Val accuracy: 0.803017\n",
      "Average loss: 0.717778, Train accuracy: 0.774887, Val accuracy: 0.814961\n",
      "Average loss: 0.692019, Train accuracy: 0.783708, Val accuracy: 0.823835\n",
      "Average loss: 0.674928, Train accuracy: 0.790670, Val accuracy: 0.807453\n",
      "Average loss: 0.672181, Train accuracy: 0.791694, Val accuracy: 0.823562\n",
      "Learing rate:  0.01 ; RegStr:  1e-05\n",
      "Average loss: 0.966046, Train accuracy: 0.682541, Val accuracy: 0.839874\n",
      "Average loss: 0.554003, Train accuracy: 0.827765, Val accuracy: 0.861102\n",
      "Average loss: 0.501869, Train accuracy: 0.844214, Val accuracy: 0.869975\n",
      "Average loss: 0.472855, Train accuracy: 0.852626, Val accuracy: 0.873729\n",
      "Average loss: 0.456642, Train accuracy: 0.856977, Val accuracy: 0.884445\n",
      "Learing rate:  0.001 ; RegStr:  0.001\n",
      "Average loss: 0.852376, Train accuracy: 0.737860, Val accuracy: 0.852365\n",
      "Average loss: 0.539494, Train accuracy: 0.834130, Val accuracy: 0.862262\n",
      "Average loss: 0.488585, Train accuracy: 0.849196, Val accuracy: 0.870999\n",
      "Average loss: 0.459478, Train accuracy: 0.857950, Val accuracy: 0.871272\n",
      "Average loss: 0.441798, Train accuracy: 0.862676, Val accuracy: 0.877961\n",
      "Learing rate:  0.001 ; RegStr:  1e-05\n",
      "Average loss: 0.842706, Train accuracy: 0.740078, Val accuracy: 0.844994\n",
      "Average loss: 0.525124, Train accuracy: 0.838344, Val accuracy: 0.864241\n",
      "Average loss: 0.476186, Train accuracy: 0.853206, Val accuracy: 0.866084\n",
      "Average loss: 0.443158, Train accuracy: 0.863273, Val accuracy: 0.885673\n",
      "Average loss: 0.416057, Train accuracy: 0.872146, Val accuracy: 0.883626\n",
      "Learing rate:  0.0001 ; RegStr:  0.001\n",
      "Average loss: 1.618909, Train accuracy: 0.503259, Val accuracy: 0.728073\n",
      "Average loss: 0.892367, Train accuracy: 0.755332, Val accuracy: 0.816600\n",
      "Average loss: 0.674387, Train accuracy: 0.804440, Val accuracy: 0.839260\n",
      "Average loss: 0.592925, Train accuracy: 0.823346, Val accuracy: 0.851136\n",
      "Average loss: 0.542000, Train accuracy: 0.836740, Val accuracy: 0.859805\n",
      "Learing rate:  0.0001 ; RegStr:  1e-05\n",
      "Average loss: 1.676813, Train accuracy: 0.479320, Val accuracy: 0.702000\n",
      "Average loss: 0.952512, Train accuracy: 0.739702, Val accuracy: 0.808545\n",
      "Average loss: 0.705226, Train accuracy: 0.796045, Val accuracy: 0.834551\n",
      "Average loss: 0.604292, Train accuracy: 0.820206, Val accuracy: 0.844516\n",
      "Average loss: 0.554528, Train accuracy: 0.832662, Val accuracy: 0.854276\n"
     ]
    }
   ],
   "source": [
    "# The key hyperparameters we're going to tune are learning speed, annealing rate and regularization\n",
    "# We also encourage you to try different optimizers as well\n",
    "\n",
    "Hyperparams = namedtuple(\"Hyperparams\", ['learning_rate', 'reg'])\n",
    "RunResult = namedtuple(\"RunResult\", ['model', 'train_history', 'val_history', 'final_val_accuracy'])\n",
    "\n",
    "learning_rates = [1e-2, 1e-3, 1e-4]\n",
    "anneal_coeff = 0.2\n",
    "anneal_epochs = [2, 5]\n",
    "reg = [1e-3, 1e-5]\n",
    "\n",
    "batch_size = 64\n",
    "epoch_num = 5\n",
    "\n",
    "# Record all the runs here\n",
    "# Key should be Hyperparams and values should be RunResult\n",
    "run_record = {} \n",
    "\n",
    "# Use grid search or random search and record all runs in run_record dictionnary \n",
    "# Important: perform search in logarithmic space!\n",
    "\n",
    "# TODO: Your code here!\n",
    "best_accuracy = 0\n",
    "for learnRate in learning_rates:\n",
    "    for regStr in reg:\n",
    "        print(\"Learing rate: \", learnRate, \"; RegStr: \", regStr)\n",
    "        model = nn.Sequential(\n",
    "        nn.Conv2d(in_channels=3, out_channels=6, kernel_size=5, padding=0),\n",
    "        nn.MaxPool2d(kernel_size=2),\n",
    "        \n",
    "        nn.Conv2d(in_channels=6, out_channels=16, kernel_size=5, padding=0),\n",
    "        nn.MaxPool2d(kernel_size=2),\n",
    "    \n",
    "        Flattener(),\n",
    "        nn.Linear(in_features=16*5*5, out_features=120),\n",
    "        nn.BatchNorm1d(120),\n",
    "        nn.ReLU(inplace=True),\n",
    "        nn.Linear(in_features=120, out_features=84),\n",
    "        nn.BatchNorm1d(84),\n",
    "        nn.ReLU(inplace=True),\n",
    "        nn.Linear(in_features=84, out_features=10),\n",
    "        )\n",
    "        model.type(torch.cuda.FloatTensor)\n",
    "        model.to(device)\n",
    "        \n",
    "        optimizer = optim.Adam(model.parameters(), lr=learnRate, weight_decay=regStr)\n",
    "        sheduler = optim.lr_scheduler.ReduceLROnPlateau(optimizer , factor = 0.5 , patience= 2 , verbose=True)\n",
    "        \n",
    "        loss_history, train_history, val_history = train_model(model, train_aug_loader, val_loader, \n",
    "                                                               loss, optimizer,epoch_num, sheduler)\n",
    "        if val_history[-1] > best_accuracy:\n",
    "            best_model = model\n",
    "    \n",
    "        run_record[Hyperparams(learnRate, regStr)] = RunResult(model, train_history, val_history , val_history[-1])"
   ]
  },
  {
   "cell_type": "code",
   "execution_count": 14,
   "metadata": {
    "colab": {
     "base_uri": "https://localhost:8080/",
     "height": 234
    },
    "id": "Y6xExdw8JB1l",
    "outputId": "02f2f74f-c687-4a41-ee58-16052b35e8ab"
   },
   "outputs": [
    {
     "name": "stdout",
     "output_type": "stream",
     "text": [
      "Best validation accuracy: 0.88, best hyperparams: Hyperparams(learning_rate=0.01, reg=1e-05)\n"
     ]
    }
   ],
   "source": [
    "best_val_accuracy = None\n",
    "best_hyperparams = None\n",
    "best_run = None\n",
    "\n",
    "for hyperparams, run_result in run_record.items():\n",
    "    if best_val_accuracy is None or best_val_accuracy < run_result.final_val_accuracy:\n",
    "        best_val_accuracy = run_result.final_val_accuracy\n",
    "        best_hyperparams = hyperparams\n",
    "        best_run = run_result\n",
    "        \n",
    "print(\"Best validation accuracy: %4.2f, best hyperparams: %s\" % (best_val_accuracy, best_hyperparams))\n",
    "        "
   ]
  },
  {
   "cell_type": "markdown",
   "metadata": {
    "id": "LOmsR0uVgtgf"
   },
   "source": [
    "# Свободное упражнение - догоним и перегоним LeNet!\n",
    "\n",
    "Попробуйте найти архитектуру и настройки тренировки, чтобы выступить лучше наших бейзлайнов.\n",
    "\n",
    "Что можно и нужно попробовать:\n",
    "- BatchNormalization (для convolution layers он в PyTorch называется [batchnorm2d](https://pytorch.org/docs/stable/nn.html#batchnorm2d))\n",
    "- Изменить количество слоев и их толщину\n",
    "- Изменять количество эпох тренировки\n",
    "- Попробовать и другие агментации"
   ]
  },
  {
   "cell_type": "code",
   "execution_count": 15,
   "metadata": {
    "id": "tSVhD747icoc"
   },
   "outputs": [
    {
     "name": "stdout",
     "output_type": "stream",
     "text": [
      "Average loss: 0.663983, Train accuracy: 0.790772, Val accuracy: 0.880622\n",
      "Average loss: 0.385408, Train accuracy: 0.882094, Val accuracy: 0.901304\n",
      "Average loss: 0.315320, Train accuracy: 0.903286, Val accuracy: 0.906218\n",
      "Average loss: 0.270525, Train accuracy: 0.918848, Val accuracy: 0.913931\n",
      "Average loss: 0.238172, Train accuracy: 0.927055, Val accuracy: 0.914818\n",
      "Average loss: 0.205818, Train accuracy: 0.937020, Val accuracy: 0.920415\n",
      "Average loss: 0.180655, Train accuracy: 0.944101, Val accuracy: 0.919391\n",
      "Average loss: 0.164037, Train accuracy: 0.949357, Val accuracy: 0.920278\n",
      "Average loss: 0.144235, Train accuracy: 0.953622, Val accuracy: 0.918913\n",
      "Average loss: 0.129317, Train accuracy: 0.958793, Val accuracy: 0.916729\n",
      "Average loss: 0.115747, Train accuracy: 0.962854, Val accuracy: 0.911678\n",
      "Average loss: 0.109029, Train accuracy: 0.964543, Val accuracy: 0.919186\n",
      "Average loss: 0.097286, Train accuracy: 0.968075, Val accuracy: 0.920551\n",
      "Average loss: 0.095710, Train accuracy: 0.968314, Val accuracy: 0.920756\n",
      "Average loss: 0.085294, Train accuracy: 0.971914, Val accuracy: 0.920688\n",
      "Average loss: 0.080266, Train accuracy: 0.974320, Val accuracy: 0.923077\n",
      "Average loss: 0.076817, Train accuracy: 0.974030, Val accuracy: 0.922804\n",
      "Average loss: 0.071760, Train accuracy: 0.976299, Val accuracy: 0.923145\n",
      "Average loss: 0.068064, Train accuracy: 0.978159, Val accuracy: 0.919186\n",
      "Average loss: 0.066161, Train accuracy: 0.977886, Val accuracy: 0.923691\n"
     ]
    }
   ],
   "source": [
    "best_model = nn.Sequential(\n",
    "            nn.Conv2d(in_channels=3, out_channels=64, kernel_size=7, stride=1, padding=1),\n",
    "            nn.ReLU(inplace=True),\n",
    "            nn.BatchNorm2d(64),\n",
    "            nn.MaxPool2d(kernel_size=2),\n",
    "            nn.Conv2d(in_channels=64, out_channels=128, kernel_size=7, stride=1, padding=1),\n",
    "            nn.ReLU(inplace=True),\n",
    "            nn.BatchNorm2d(128),\n",
    "            nn.MaxPool2d(kernel_size=2),\n",
    "            nn.Conv2d(in_channels=128, out_channels=256, kernel_size=7, stride=1, padding=1),\n",
    "            nn.ReLU(inplace=True),\n",
    "            nn.BatchNorm2d(256),\n",
    "            Flattener(),\n",
    "            nn.Linear(in_features=256, out_features=120),\n",
    "            nn.ReLU(inplace=True),\n",
    "            nn.BatchNorm1d(120),\n",
    "            nn.Linear(in_features=120, out_features=10),\n",
    "          )\n",
    "best_model.type(torch.cuda.FloatTensor)\n",
    "best_model.to(device)\n",
    "optimizer = optim.Adam(best_model.parameters(), lr=1e-3, weight_decay=1e-5)\n",
    "scheduler = optim.lr_scheduler.ReduceLROnPlateau(optimizer , factor = 0.5 , patience= 2 , verbose= False)\n",
    "\n",
    "loss_history, train_history, val_history = train_model(best_model, train_aug_loader, val_loader, loss, optimizer, 20, scheduler)"
   ]
  },
  {
   "cell_type": "markdown",
   "metadata": {
    "id": "ubeKgBcnhx7N"
   },
   "source": [
    "# Финальный аккорд - проверим лучшую модель на test set\n",
    "\n",
    "В качестве разнообразия - напишите код для прогона модели на test set вы.\n",
    "\n",
    "В результате вы должны натренировать модель, которая покажет более **90%** точности на test set.  \n",
    "Как водится, лучший результат в группе получит дополнительные баллы!"
   ]
  },
  {
   "cell_type": "code",
   "execution_count": 16,
   "metadata": {
    "id": "EIqM1kdeh-hd"
   },
   "outputs": [
    {
     "name": "stdout",
     "output_type": "stream",
     "text": [
      "Final test accuracy -  0.9169099569760295\n"
     ]
    }
   ],
   "source": [
    "# TODO Write the code to compute accuracy on test set\n",
    "test_loader = torch.utils.data.DataLoader(data_test, batch_size=batch_size)\n",
    "final_test_accuracy = compute_accuracy(best_model, test_loader)\n",
    "print(\"Final test accuracy - \", final_test_accuracy)"
   ]
  },
  {
   "cell_type": "code",
   "execution_count": null,
   "metadata": {
    "id": "BfH6qip6kVX_"
   },
   "outputs": [],
   "source": [
    ""
   ]
  }
 ],
 "metadata": {
  "accelerator": "GPU",
  "colab": {
   "collapsed_sections": [],
   "name": "PyTorch_CNN.ipynb",
   "provenance": []
  },
  "kernelspec": {
   "display_name": "Python 3",
   "language": "python",
   "name": "python3"
  },
  "language_info": {
   "codemirror_mode": {
    "name": "ipython",
    "version": 3
   },
   "file_extension": ".py",
   "mimetype": "text/x-python",
   "name": "python",
   "nbconvert_exporter": "python",
   "pygments_lexer": "ipython3",
   "version": "3.7.0"
  }
 },
 "nbformat": 4,
 "nbformat_minor": 0
}