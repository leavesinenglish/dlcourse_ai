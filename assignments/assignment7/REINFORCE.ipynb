{
  "cells": [
    {
      "cell_type": "markdown",
      "metadata": {
        "id": "AbwmoJusmueU"
      },
      "source": [
        "# Reinforcement Learning"
      ]
    },
    {
      "cell_type": "markdown",
      "metadata": {
        "id": "7xcuGNp-mueX"
      },
      "source": [
        "В этом задании постараемся разобраться в проблеме обучения с подкреплением, реализуем алгоритм REINFORCE и научим агента с помощью этого алгоритма играть в игру Cartpole."
      ]
    },
    {
      "cell_type": "markdown",
      "metadata": {
        "id": "4HoHMD_GmueZ"
      },
      "source": [
        "Установим и импортируем необходимые библиотеки, а также вспомогательные функции для визуализации игры агента."
      ]
    },
    {
      "cell_type": "code",
      "execution_count": 1,
      "metadata": {
        "id": "kHKfskxa7kaI"
      },
      "outputs": [],
      "source": [
        "!pip install gym pandas torch matplotlib pyvirtualdisplay > /dev/null 2>&1\n",
        "!apt-get install -y xvfb python-opengl ffmpeg x11-utils > /dev/null 2>&1"
      ]
    },
    {
      "cell_type": "code",
      "execution_count": 2,
      "metadata": {
        "id": "WiX0JVM3z0Ru"
      },
      "outputs": [],
      "source": [
        "from IPython.display import clear_output, HTML\n",
        "from IPython import display as ipythondisplay\n",
        "import matplotlib.pyplot as plt\n",
        "%matplotlib inline"
      ]
    },
    {
      "cell_type": "code",
      "execution_count": 3,
      "metadata": {
        "id": "IsjSHknYl1rj"
      },
      "outputs": [],
      "source": [
        "import numpy as np\n",
        "import glob\n",
        "import time\n",
        "import io\n",
        "import base64\n",
        "import gym\n",
        "from gym.wrappers import Monitor\n",
        "import torch\n",
        "import collections\n",
        "import pandas as pd\n",
        "from torch import nn\n",
        "from torch.optim import Adam\n",
        "from torch.distributions import Categorical"
      ]
    },
    {
      "cell_type": "code",
      "execution_count": 4,
      "metadata": {
        "colab": {
          "base_uri": "https://localhost:8080/"
        },
        "id": "b5KfVGq1n_8s",
        "outputId": "a719ccb0-5ca1-4bbe-b611-98ddc113b2b7"
      },
      "outputs": [
        {
          "output_type": "execute_result",
          "data": {
            "text/plain": [
              "<pyvirtualdisplay.display.Display at 0x7fa3f1a3a350>"
            ]
          },
          "metadata": {},
          "execution_count": 4
        }
      ],
      "source": [
        "from pyvirtualdisplay import Display\n",
        "display = Display(visible=0, size=(1400, 900))\n",
        "display.start()"
      ]
    },
    {
      "cell_type": "code",
      "execution_count": 5,
      "metadata": {
        "id": "4xGh4QxDnlFw"
      },
      "outputs": [],
      "source": [
        "\"\"\"\n",
        "Utility functions to enable video recording of gym environment and displaying it\n",
        "To enable video, just do \"env = wrap_env(env)\"\"\n",
        "\"\"\"\n",
        "\n",
        "def show_video():\n",
        "    mp4list = glob.glob('video/*.mp4')\n",
        "    if len(mp4list) > 0:\n",
        "        mp4 = mp4list[0]\n",
        "        video = io.open(mp4, 'r+b').read()\n",
        "        encoded = base64.b64encode(video)\n",
        "        ipythondisplay.display(HTML(data='''<video alt=\"test\" autoplay \n",
        "                loop controls style=\"height: 400px;\">\n",
        "                <source src=\"data:video/mp4;base64,{0}\" type=\"video/mp4\" />\n",
        "             </video>'''.format(encoded.decode('ascii'))))\n",
        "    else: \n",
        "        print(\"Could not find video\")\n",
        "    \n",
        "\n",
        "def wrap_env(env):\n",
        "    env = Monitor(env, './video', force=True)\n",
        "    return env"
      ]
    },
    {
      "cell_type": "code",
      "execution_count": 6,
      "metadata": {
        "id": "Dfi89tXjmuet"
      },
      "outputs": [],
      "source": [
        "device = torch.device('cuda:0' if torch.cuda.is_available() else 'cpu') #позволяет перенести тензор на GPU, если он доступен в системе"
      ]
    },
    {
      "cell_type": "markdown",
      "metadata": {
        "id": "AhDVTPxymuez"
      },
      "source": [
        "## OpenAI Gym"
      ]
    },
    {
      "cell_type": "markdown",
      "metadata": {
        "id": "VZb-IIq4muez"
      },
      "source": [
        "[OpenAI Gym](https://gym.openai.com) это набор сред для разработки и сравнения алгоритмов обучения с подкреплением."
      ]
    },
    {
      "cell_type": "markdown",
      "metadata": {
        "id": "fFkuRjxNmue2"
      },
      "source": [
        "OpenAI Gym предоставляет простой и универсальный API ко многим средам с разными свойствами, как простым так и сложным:\n",
        "* Классические задачи управления и игрушечные примеры, которые можно найти в учебниках и на которых демонстрируется работа алгоритмов обучения с подкреплением (одна из этих сред используется в этом задании)\n",
        "* Игры Atari (оказали огромное влияние на достижения в обучении с подкреплением в последние годы)\n",
        "* 2D и 3D среды для контроля роботов в симуляции (используют проприетарный движок [Mojuco](http://www.mujoco.org))"
      ]
    },
    {
      "cell_type": "markdown",
      "metadata": {
        "id": "NIu0Uhj7mue5"
      },
      "source": [
        "Рассмотрим, как устроена среда [CartPole-v0](https://gym.openai.com/envs/CartPole-v0), с которой мы будем работать."
      ]
    },
    {
      "cell_type": "markdown",
      "metadata": {
        "id": "KYHUeiMXmue6"
      },
      "source": [
        "Для этого создадим среду и выведем ее описание."
      ]
    },
    {
      "cell_type": "code",
      "execution_count": 7,
      "metadata": {
        "colab": {
          "base_uri": "https://localhost:8080/"
        },
        "id": "b9BRqxoDmue7",
        "outputId": "cb585543-9af2-4c86-fa6b-85edaeaa262f"
      },
      "outputs": [
        {
          "output_type": "stream",
          "name": "stdout",
          "text": [
            "\n",
            "    Description:\n",
            "        A pole is attached by an un-actuated joint to a cart, which moves along\n",
            "        a frictionless track. The pendulum starts upright, and the goal is to\n",
            "        prevent it from falling over by increasing and reducing the cart's\n",
            "        velocity.\n",
            "\n",
            "    Source:\n",
            "        This environment corresponds to the version of the cart-pole problem\n",
            "        described by Barto, Sutton, and Anderson\n",
            "\n",
            "    Observation:\n",
            "        Type: Box(4)\n",
            "        Num     Observation               Min                     Max\n",
            "        0       Cart Position             -4.8                    4.8\n",
            "        1       Cart Velocity             -Inf                    Inf\n",
            "        2       Pole Angle                -0.418 rad (-24 deg)    0.418 rad (24 deg)\n",
            "        3       Pole Angular Velocity     -Inf                    Inf\n",
            "\n",
            "    Actions:\n",
            "        Type: Discrete(2)\n",
            "        Num   Action\n",
            "        0     Push cart to the left\n",
            "        1     Push cart to the right\n",
            "\n",
            "        Note: The amount the velocity that is reduced or increased is not\n",
            "        fixed; it depends on the angle the pole is pointing. This is because\n",
            "        the center of gravity of the pole increases the amount of energy needed\n",
            "        to move the cart underneath it\n",
            "\n",
            "    Reward:\n",
            "        Reward is 1 for every step taken, including the termination step\n",
            "\n",
            "    Starting State:\n",
            "        All observations are assigned a uniform random value in [-0.05..0.05]\n",
            "\n",
            "    Episode Termination:\n",
            "        Pole Angle is more than 12 degrees.\n",
            "        Cart Position is more than 2.4 (center of the cart reaches the edge of\n",
            "        the display).\n",
            "        Episode length is greater than 200.\n",
            "        Solved Requirements:\n",
            "        Considered solved when the average return is greater than or equal to\n",
            "        195.0 over 100 consecutive trials.\n",
            "    \n"
          ]
        }
      ],
      "source": [
        "env = gym.make(\"CartPole-v0\")\n",
        "print(env.env.__doc__)"
      ]
    },
    {
      "cell_type": "markdown",
      "metadata": {
        "id": "tovAoT5dmufD"
      },
      "source": [
        "Из этого описания мы можем узнать, как устроены пространства состояний и действий в этой среды, какие награды получаются на каждом шаге, а также, что нам необходимо сделать, чтобы научиться \"решать\" эту среду, а именно достич средней награды больше 195.0 или больше за 100 последовательных запусков агента в этой среде. Именно такого агента мы и попробуем создать и обучить."
      ]
    },
    {
      "cell_type": "markdown",
      "metadata": {
        "id": "hZ98fYaxmufF"
      },
      "source": [
        "Но для начала напишем вспомогательную функцию, которая будет принимать на вход среду, агента и число эпизодов, и возвращать среднюю награду за 100 эпизодов. С помощью этой функции мы сможем протестировать, насколько хорошо обучился наш агент, а также визуализировать его поведение в среде."
      ]
    },
    {
      "cell_type": "code",
      "execution_count": 8,
      "metadata": {
        "id": "0jXEOwd7njUm"
      },
      "outputs": [],
      "source": [
        "def test_agent(env, agent=None, n_episodes=100):\n",
        "    \"\"\"Runs agent for n_episodes in environment and calclates mean reward.\n",
        "    \n",
        "    Args:\n",
        "        env: The environment for agent to play in\n",
        "        agent: The agent to play with. Defaults to None - \n",
        "            in this case random agent is used.\n",
        "        n_episodes: Number of episodes to play. Defaults to 100.\n",
        "\n",
        "    Returns:\n",
        "        Mean reward for 100 episodes.\n",
        "    \"\"\"\n",
        "    total_reward = []\n",
        "    for episode in range(n_episodes):\n",
        "        episode_reward = 0\n",
        "        observation = env.reset()\n",
        "        t = 0\n",
        "        while True:\n",
        "            if agent:\n",
        "                with torch.no_grad():\n",
        "                    probs = agent(torch.FloatTensor(observation).to(device))\n",
        "                    dist = Categorical(probs)\n",
        "                    action = dist.sample().item()\n",
        "            else:\n",
        "                action = env.action_space.sample()\n",
        "            observation, reward, done, info = env.step(action)\n",
        "            episode_reward += reward\n",
        "            t += 1\n",
        "            if done:\n",
        "                print(\"Episode {} finished after {} timesteps\".format(episode+1, t+1))\n",
        "                break\n",
        "        total_reward.append(episode_reward)\n",
        "        env.close()\n",
        "                   \n",
        "    return np.mean(total_reward)"
      ]
    },
    {
      "cell_type": "markdown",
      "metadata": {
        "id": "TqnYqFVSmufL"
      },
      "source": [
        "Протестируем и визуализируем случайного агента (параметр ```agent=False```)."
      ]
    },
    {
      "cell_type": "code",
      "execution_count": 9,
      "metadata": {
        "id": "yqVokBDFmufM",
        "scrolled": true,
        "colab": {
          "base_uri": "https://localhost:8080/"
        },
        "outputId": "8fbaad2b-9e06-41ef-ccd9-ff0614d71245"
      },
      "outputs": [
        {
          "output_type": "stream",
          "name": "stdout",
          "text": [
            "Episode 1 finished after 36 timesteps\n",
            "Episode 2 finished after 15 timesteps\n",
            "Episode 3 finished after 13 timesteps\n",
            "Episode 4 finished after 21 timesteps\n",
            "Episode 5 finished after 11 timesteps\n",
            "Episode 6 finished after 36 timesteps\n",
            "Episode 7 finished after 42 timesteps\n",
            "Episode 8 finished after 24 timesteps\n",
            "Episode 9 finished after 12 timesteps\n",
            "Episode 10 finished after 30 timesteps\n",
            "Episode 11 finished after 15 timesteps\n",
            "Episode 12 finished after 17 timesteps\n",
            "Episode 13 finished after 24 timesteps\n",
            "Episode 14 finished after 39 timesteps\n",
            "Episode 15 finished after 11 timesteps\n",
            "Episode 16 finished after 18 timesteps\n",
            "Episode 17 finished after 15 timesteps\n",
            "Episode 18 finished after 12 timesteps\n",
            "Episode 19 finished after 16 timesteps\n",
            "Episode 20 finished after 16 timesteps\n",
            "Episode 21 finished after 27 timesteps\n",
            "Episode 22 finished after 14 timesteps\n",
            "Episode 23 finished after 46 timesteps\n",
            "Episode 24 finished after 16 timesteps\n",
            "Episode 25 finished after 22 timesteps\n",
            "Episode 26 finished after 34 timesteps\n",
            "Episode 27 finished after 15 timesteps\n",
            "Episode 28 finished after 16 timesteps\n",
            "Episode 29 finished after 12 timesteps\n",
            "Episode 30 finished after 21 timesteps\n",
            "Episode 31 finished after 20 timesteps\n",
            "Episode 32 finished after 16 timesteps\n",
            "Episode 33 finished after 34 timesteps\n",
            "Episode 34 finished after 14 timesteps\n",
            "Episode 35 finished after 75 timesteps\n",
            "Episode 36 finished after 13 timesteps\n",
            "Episode 37 finished after 23 timesteps\n",
            "Episode 38 finished after 40 timesteps\n",
            "Episode 39 finished after 42 timesteps\n",
            "Episode 40 finished after 49 timesteps\n",
            "Episode 41 finished after 25 timesteps\n",
            "Episode 42 finished after 17 timesteps\n",
            "Episode 43 finished after 13 timesteps\n",
            "Episode 44 finished after 23 timesteps\n",
            "Episode 45 finished after 17 timesteps\n",
            "Episode 46 finished after 49 timesteps\n",
            "Episode 47 finished after 25 timesteps\n",
            "Episode 48 finished after 29 timesteps\n",
            "Episode 49 finished after 23 timesteps\n",
            "Episode 50 finished after 58 timesteps\n",
            "Episode 51 finished after 18 timesteps\n",
            "Episode 52 finished after 28 timesteps\n",
            "Episode 53 finished after 17 timesteps\n",
            "Episode 54 finished after 12 timesteps\n",
            "Episode 55 finished after 38 timesteps\n",
            "Episode 56 finished after 36 timesteps\n",
            "Episode 57 finished after 10 timesteps\n",
            "Episode 58 finished after 42 timesteps\n",
            "Episode 59 finished after 34 timesteps\n",
            "Episode 60 finished after 16 timesteps\n",
            "Episode 61 finished after 15 timesteps\n",
            "Episode 62 finished after 23 timesteps\n",
            "Episode 63 finished after 12 timesteps\n",
            "Episode 64 finished after 30 timesteps\n",
            "Episode 65 finished after 22 timesteps\n",
            "Episode 66 finished after 25 timesteps\n",
            "Episode 67 finished after 12 timesteps\n",
            "Episode 68 finished after 20 timesteps\n",
            "Episode 69 finished after 13 timesteps\n",
            "Episode 70 finished after 17 timesteps\n",
            "Episode 71 finished after 29 timesteps\n",
            "Episode 72 finished after 14 timesteps\n",
            "Episode 73 finished after 14 timesteps\n",
            "Episode 74 finished after 26 timesteps\n",
            "Episode 75 finished after 45 timesteps\n",
            "Episode 76 finished after 14 timesteps\n",
            "Episode 77 finished after 29 timesteps\n",
            "Episode 78 finished after 35 timesteps\n",
            "Episode 79 finished after 35 timesteps\n",
            "Episode 80 finished after 12 timesteps\n",
            "Episode 81 finished after 13 timesteps\n",
            "Episode 82 finished after 14 timesteps\n",
            "Episode 83 finished after 33 timesteps\n",
            "Episode 84 finished after 18 timesteps\n",
            "Episode 85 finished after 16 timesteps\n",
            "Episode 86 finished after 13 timesteps\n",
            "Episode 87 finished after 30 timesteps\n",
            "Episode 88 finished after 22 timesteps\n",
            "Episode 89 finished after 12 timesteps\n",
            "Episode 90 finished after 25 timesteps\n",
            "Episode 91 finished after 10 timesteps\n",
            "Episode 92 finished after 13 timesteps\n",
            "Episode 93 finished after 19 timesteps\n",
            "Episode 94 finished after 22 timesteps\n",
            "Episode 95 finished after 42 timesteps\n",
            "Episode 96 finished after 16 timesteps\n",
            "Episode 97 finished after 45 timesteps\n",
            "Episode 98 finished after 28 timesteps\n",
            "Episode 99 finished after 15 timesteps\n",
            "Episode 100 finished after 49 timesteps\n"
          ]
        },
        {
          "output_type": "execute_result",
          "data": {
            "text/plain": [
              "22.99"
            ]
          },
          "metadata": {},
          "execution_count": 9
        }
      ],
      "source": [
        "test_agent(env, agent=False, n_episodes=100)"
      ]
    },
    {
      "cell_type": "markdown",
      "metadata": {
        "id": "8bzNtyllmufS"
      },
      "source": [
        "Как видно, наш случайный агент выступает не очень хорошо и в среднем может удержать шест всего около 20 шагов."
      ]
    },
    {
      "cell_type": "markdown",
      "metadata": {
        "id": "BNcZLQpzmufU"
      },
      "source": [
        "Напишем функцию для визуализации агента и посмотрим на случайного агента."
      ]
    },
    {
      "cell_type": "code",
      "execution_count": 10,
      "metadata": {
        "id": "GgThoRPgoMcs"
      },
      "outputs": [],
      "source": [
        "def agent_viz(env=\"CartPole-v0\", agent=None):\n",
        "    \"\"\"Visualizes agent play in the given environment.\n",
        "    \n",
        "    Args:\n",
        "        env: The environment for agent to play in. Defaults to CartPole-v0.\n",
        "        agent: The agent to play with. Defaults to None - \n",
        "            in this case random agent is used.\n",
        "\n",
        "    Returns:\n",
        "        Nothing is returned. Visualization is created and can be showed\n",
        "            with show_video() function.\n",
        "    \"\"\"\n",
        "    env = wrap_env(gym.make(env))\n",
        "    observation = env.reset()\n",
        "    while True:\n",
        "        env.render() \n",
        "        if agent:\n",
        "            with torch.no_grad():\n",
        "                probs = agent(torch.FloatTensor(observation).to(device))\n",
        "                dist = Categorical(probs)\n",
        "                action = dist.sample().item()\n",
        "        else:\n",
        "            action = env.action_space.sample()\n",
        "        observation, reward, done, info = env.step(action)\n",
        "        if done:\n",
        "            break\n",
        "            \n",
        "    env.close()"
      ]
    },
    {
      "cell_type": "code",
      "execution_count": 11,
      "metadata": {
        "id": "b5FLllE_pHSf",
        "colab": {
          "base_uri": "https://localhost:8080/",
          "height": 422
        },
        "outputId": "b9ce0cca-90a3-41a8-f38c-88b95331c12e"
      },
      "outputs": [
        {
          "output_type": "display_data",
          "data": {
            "text/plain": [
              "<IPython.core.display.HTML object>"
            ],
            "text/html": [
              "<video alt=\"test\" autoplay \n",
              "                loop controls style=\"height: 400px;\">\n",
              "                <source src=\"data:video/mp4;base64,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\" type=\"video/mp4\" />\n",
              "             </video>"
            ]
          },
          "metadata": {}
        }
      ],
      "source": [
        "agent_viz()\n",
        "show_video()"
      ]
    },
    {
      "cell_type": "markdown",
      "metadata": {
        "id": "hpQF0xgJmufW"
      },
      "source": [
        "Попробуем применить обучение с подкреплением и алгоритм REINFORCE для того, чтобы в среднем за 100 эпиздов мы держали шест не менее 195 шагов."
      ]
    },
    {
      "cell_type": "markdown",
      "metadata": {
        "id": "M2SkO__WmufX"
      },
      "source": [
        "## REINFORCE"
      ]
    },
    {
      "cell_type": "markdown",
      "metadata": {
        "id": "QW95huRpmufY"
      },
      "source": [
        "Вспомним, что из себя представляет алгоритм REINFORCE (Sutton & Barto) <img src=\"//i.imgur.com/bnASTrY.png\" width=\"700\">"
      ]
    },
    {
      "cell_type": "markdown",
      "metadata": {
        "id": "CFD7oH9mmufZ"
      },
      "source": [
        "1. Инициализуем политику (в качестве политики мы будем использовать глубокую нейронную сеть).\n",
        "2. \"Играем\" в среде эпизод, используя нашу политику, или несколько (мы будем использовать последний вариант) и собираем данные о состояниях, действиях и полученных наградах. \n",
        "3. Для каждого состояния в собранных эпизодах вычисляем сумму дисконтированных наград, полученных из этого состояния, а также логорифм правдоподобия предпринятого действия в этом состоянии для нашей политики.\n",
        "4. Обновляем параметры нашей политики по формуле на схеме."
      ]
    },
    {
      "cell_type": "markdown",
      "metadata": {
        "id": "Zjhox1Rdmufa"
      },
      "source": [
        "### Политика"
      ]
    },
    {
      "cell_type": "markdown",
      "metadata": {
        "id": "v5KOdiJrmufb"
      },
      "source": [
        "Наша политика должна принимать на вход состояние среды, а на выходе выдавать распределение по действиям, которые мы можем осуществлять в среде.\n",
        "\n",
        "**Задание:** Создать класс нейронной сети со следующей архитектурой ```Linear -> ReLU -> Linear -> Softmax```. Параметрами инициализации должны служить размерности пространства состояний, пространства действий и размер скрытого слоя."
      ]
    },
    {
      "cell_type": "code",
      "execution_count": 12,
      "metadata": {
        "id": "BSbzinGQidFm"
      },
      "outputs": [],
      "source": [
        "class Policy(nn.Module):\n",
        "    \"\"\"Policy to be used by agent.\n",
        "\n",
        "    Attributes:\n",
        "        state_size: Dimention of the state space of the environment.\n",
        "        act_size: Dimention of the action space of the environment.\n",
        "        hidden_size: Dimention of the hidden state of the agent's policy.\n",
        "    \"\"\"\n",
        "    def __init__(self, state_size, act_size, hidden_size):\n",
        "        super().__init__()\n",
        "        self.state_size = state_size\n",
        "        self.act_size = act_size\n",
        "        self.hidden_size = hidden_size\n",
        "        self.linear_1 = nn.Linear(state_size, hidden_size)\n",
        "        self.ReLu = nn.ReLU(inplace=True)\n",
        "        self.linear_2 = nn.Linear(hidden_size, act_size)\n",
        "        self.softmax = nn.Softmax(dim=1)\n",
        "    \n",
        "    def forward(self, inputs):\n",
        "        inputs = inputs.reshape((-1,self.state_size))\n",
        "        out = self.linear_1(inputs)\n",
        "        out = self.ReLu(out)\n",
        "        out = self.linear_2(out)\n",
        "        return self.softmax(out).view(-1)"
      ]
    },
    {
      "cell_type": "markdown",
      "metadata": {
        "id": "E0bYNhJ_mufh"
      },
      "source": [
        "### Оценка правдоподобия и расчет суммы дисконтированных наград"
      ]
    },
    {
      "cell_type": "markdown",
      "metadata": {
        "id": "QMZIoW8pmufi"
      },
      "source": [
        "**Задание:** Напишем вспомогательная функцию, которая принимает на вход политику, батч траекторий и фактор дисконтирования, и должна вернуть следующие величины: \n",
        "* правдоподобие действия на каждом шаге на траектории посчитанные для всего батча;\n",
        "* дисконтированные суммы наград (reward-to-go) из каждого состояния среды на траектории посчитанные для всего батча;"
      ]
    },
    {
      "cell_type": "markdown",
      "metadata": {
        "id": "rcs_Xi-jmufl"
      },
      "source": [
        "**Hint**: Представим батч траекторий как ```list```, в котром также хранится ```list``` для каждой траектории, в котором каждый шаг хранится, как ```namedtuple```:\n",
        "```transition = collections.namedtuple(\"transition\", [\"state\", \"action\", \"reward\"])```"
      ]
    },
    {
      "cell_type": "code",
      "execution_count": 13,
      "metadata": {
        "id": "eGHfushNmufl"
      },
      "outputs": [],
      "source": [
        "def process_traj_batch(policy, batch, discount):\n",
        "    \"\"\"Computes log probabilities for each action \n",
        "        and rewards-to-go for each state in the batch of trajectories.\n",
        "    \n",
        "    Args:\n",
        "        policy: Policy of the agent.\n",
        "        batch (list of list of collections.namedtuple): Batch of trajectories.\n",
        "        discount (float): Discount factor for rewards-to-go calculation.\n",
        "\n",
        "    Returns:\n",
        "        log_probs (list of torch.FloatTensor): List of log probabilities for\n",
        "            each action in the batch of trajectories.\n",
        "        returns (list of rewards-to-go): List of rewards-to-go for \n",
        "            each state in the batch of trajectories.\n",
        "    \"\"\"\n",
        "    log_probs = []\n",
        "    returns = []\n",
        "    for traj in batch:\n",
        "        rewards = [0]*len(traj)\n",
        "        for i in range(len(traj)):           \n",
        "            probs_step = policy.forward(traj[i].state)\n",
        "            prob_action = probs_step[traj[i].action.item()]\n",
        "            log_probs.append(torch.log(prob_action))\n",
        "            for j in range(i, len(traj)):\n",
        "                rewards[i] += traj[j].reward*discount**(j-i)\n",
        "        returns.extend(rewards)\n",
        "    return log_probs, returns"
      ]
    },
    {
      "cell_type": "markdown",
      "metadata": {
        "id": "mp6xKRWXmufp"
      },
      "source": [
        "Ваша реализация функции должна проходить следующий тест."
      ]
    },
    {
      "cell_type": "code",
      "execution_count": 14,
      "metadata": {
        "id": "qVJnolh-mufq"
      },
      "outputs": [],
      "source": [
        "def test_process_traj_batch(process_traj_batch):\n",
        "    \n",
        "    transition = collections.namedtuple(\"transition\", [\"state\", \"action\", \"reward\"])\n",
        "    \n",
        "    class HelperPolicy(nn.Module):\n",
        "        def __init__(self):\n",
        "            super(HelperPolicy, self).__init__()\n",
        "        \n",
        "            self.act = nn.Sequential(\n",
        "                nn.Linear(4, 2),\n",
        "                nn.Softmax(dim=0),\n",
        "            )\n",
        "        \n",
        "        def forward(self, x):\n",
        "            return self.act(x)\n",
        "        \n",
        "    policy = HelperPolicy()\n",
        "    \n",
        "    for name, param in policy.named_parameters():\n",
        "        if name == \"act.0.weight\":\n",
        "            param.data = torch.tensor([[1.7492, -0.2471, 0.3310, 1.1494],\n",
        "                                       [0.6171, -0.6026, 0.5025, -0.3196]])\n",
        "        else:\n",
        "            param.data = torch.tensor([0.0262, 0.1882])\n",
        "            \n",
        "    batch = [\n",
        "        [\n",
        "            transition(state=torch.tensor([ 0.0462, -0.0018,  0.0372,  0.0063]), action=torch.tensor(0), reward=1.0), \n",
        "            transition(state=torch.tensor([ 0.0462, -0.1975,  0.0373,  0.3105]), action=torch.tensor(1), reward=1.0), \n",
        "            transition(state=torch.tensor([ 0.0422, -0.0029,  0.0435,  0.0298]), action=torch.tensor(0), reward=1.0), \n",
        "            transition(state=torch.tensor([ 0.0422, -0.1986,  0.0441,  0.3359]), action=torch.tensor(0), reward=1.0), \n",
        "        ],\n",
        "        [\n",
        "            transition(state=torch.tensor([ 0.0382, -0.3943,  0.0508,  0.6421]), action=torch.tensor(1), reward=1.0), \n",
        "            transition(state=torch.tensor([ 0.0303, -0.2000,  0.0637,  0.3659]), action=torch.tensor(1), reward=1.0), \n",
        "            transition(state=torch.tensor([ 0.0263, -0.0058,  0.0710,  0.0939]), action=torch.tensor(1), reward=1.0), \n",
        "            transition(state=torch.tensor([ 0.0262,  0.1882,  0.0729, -0.1755]), action=torch.tensor(0), reward=1.0)\n",
        "        ]\n",
        "    ]\n",
        "    \n",
        "    log_probs, returns = process_traj_batch(policy, batch, 0.9)\n",
        "    assert sum(log_probs).item() == -6.3940582275390625, \"Log probabilities calculation is incorrect!!!\"\n",
        "    assert sum(returns) == 18.098, \"Log probabilities calculation is incorrect!!!\"\n",
        "    print(\"Correct!\")"
      ]
    },
    {
      "cell_type": "code",
      "execution_count": 15,
      "metadata": {
        "id": "_qKrJpyBmufu",
        "colab": {
          "base_uri": "https://localhost:8080/"
        },
        "outputId": "2f1adab8-8b49-4165-eea8-c00b33b592d8"
      },
      "outputs": [
        {
          "output_type": "stream",
          "name": "stdout",
          "text": [
            "Correct!\n"
          ]
        }
      ],
      "source": [
        "test_process_traj_batch(process_traj_batch)"
      ]
    },
    {
      "cell_type": "markdown",
      "metadata": {
        "id": "7_y4MJPxmufz"
      },
      "source": [
        "### Вспомогательные функции и гиперпараметры"
      ]
    },
    {
      "cell_type": "markdown",
      "metadata": {
        "id": "PKF5itlpmuf0"
      },
      "source": [
        "Функция для расчета скользящего среднего - ее мы будем использовать для визуализации наград по эпизодам."
      ]
    },
    {
      "cell_type": "code",
      "execution_count": 16,
      "metadata": {
        "id": "tHgXs9aPmuf2"
      },
      "outputs": [],
      "source": [
        "moving_average = lambda x, **kw: pd.DataFrame({'x':np.asarray(x)}).x.ewm(**kw).mean().values"
      ]
    },
    {
      "cell_type": "markdown",
      "metadata": {
        "id": "P3oqmQmxmuf6"
      },
      "source": [
        "Определим также гиперпараметры."
      ]
    },
    {
      "cell_type": "code",
      "execution_count": 17,
      "metadata": {
        "id": "cFSLjGjOms0m"
      },
      "outputs": [],
      "source": [
        "STATE_SIZE  = env.observation_space.shape[0] # размерность пространства состояний среды\n",
        "ACT_SIZE = env.action_space.n # размерность пространства действий среды\n",
        "HIDDEN_SIZE = 256 # размер скрытого слоя для политики\n",
        "NUM_EPISODES = 1000 # количество эпиздов, которые будут сыграны для обучения\n",
        "DISCOUNT = 0.99 # фактор дисконтирования\n",
        "TRAIN_EVERY = 20"
      ]
    },
    {
      "cell_type": "markdown",
      "metadata": {
        "id": "d1RZfo_1muf-"
      },
      "source": [
        "Инициализуем политику и алгоритм оптимизации - мы будем использовать Adam c праметрами по умолчанию."
      ]
    },
    {
      "cell_type": "code",
      "execution_count": 18,
      "metadata": {
        "id": "zEKqg4Ykmuf_"
      },
      "outputs": [],
      "source": [
        "policy = Policy(STATE_SIZE, ACT_SIZE, HIDDEN_SIZE).to(device)\n",
        "optimizer = Adam(policy.parameters())"
      ]
    },
    {
      "cell_type": "code",
      "execution_count": 19,
      "metadata": {
        "id": "EIbRMh3MmugC"
      },
      "outputs": [],
      "source": [
        "transition = collections.namedtuple(\"transition\", [\"state\", \"action\", \"reward\"])"
      ]
    },
    {
      "cell_type": "markdown",
      "metadata": {
        "id": "jRRCJTnimugE"
      },
      "source": [
        "### Основной цикл обучения"
      ]
    },
    {
      "cell_type": "markdown",
      "metadata": {
        "id": "FcQ4-JMymugE"
      },
      "source": [
        "Теперь, когда мы опредлели вспомогательные функции, то нам следует написать основной цикл обучения агент.\n",
        "В цикле должно происходить следующее:"
      ]
    },
    {
      "cell_type": "markdown",
      "metadata": {
        "id": "1wih2vIYmugG"
      },
      "source": [
        "1. Играем количество эпизодов, определенное в гиперпараметре ```NUM_EPISODES```.\n",
        "2. В каждом эпизоде сохраняем информацию о шагах на траектории - состояние, действие и награду.\n",
        "3. В конце каждого эпизода сохраняем вышеуказанную информацию о траектории. \n",
        "4. Периодически обучаемся на собранных эпизодах каждые ```TRAIN_EVERY``` эпизодов:  \n",
        "    4.1. Считаем для собранного батча для каждого шага на трактории правдоподобие и сумму дисконтированных наград.  \n",
        "    4.2. Обновляем параметры политики агента по формуле, приведенной на схеме."
      ]
    },
    {
      "cell_type": "markdown",
      "metadata": {
        "id": "gb1eIuJqmugI"
      },
      "source": [
        "**Задание:** Реализовать алгоритм обучения, описанный на схеме и в тексте выше. Шаблон кода алгоритма представлен ниже. При этом следует сохранять сумму ревордов для каждого эпизода в переменную ```returns_history```. Алгоритму потребуется около 1000 эпизодов игры, для того чтобы научиться играть в игру (если после 1000 эпизодов агент играет немного хуже, чем для победы в игре, попробуйте обучать его немного дольше или установите критерий останова - когда средняя награда за 100 последних эпизодов превышает значение в ```env.spec.reward_threshold``` )"
      ]
    },
    {
      "cell_type": "code",
      "execution_count": 20,
      "metadata": {
        "id": "cvEwjezan5tl",
        "colab": {
          "base_uri": "https://localhost:8080/",
          "height": 390
        },
        "outputId": "e1aadbf2-ccc6-4f8e-dc03-137c7162db2f"
      },
      "outputs": [
        {
          "output_type": "display_data",
          "data": {
            "text/plain": [
              "<Figure size 864x432 with 1 Axes>"
            ],
            "image/png": "[encoded data removed]"
          },
          "metadata": {
            "needs_background": "light"
          }
        }
      ],
      "source": [
        "returns_history = []\n",
        "traj_batch = []\n",
        "\n",
        "for i in range(NUM_EPISODES):\n",
        "        \n",
        "    observation = env.reset()\n",
        "    rewards = 0\n",
        "    t = 0\n",
        "    traj = []\n",
        "    \n",
        "    while True:\n",
        "        with torch.no_grad():\n",
        "            observation = torch.FloatTensor(observation).cuda()\n",
        "            prev_observation = observation          \n",
        "            probs = policy(observation)            \n",
        "            dist = Categorical(probs)\n",
        "            action = dist.sample().item()\n",
        "            observation, reward, done, info = env.step(action)\n",
        "            traj.append(transition(prev_observation, torch.tensor(action).cuda(), reward))\n",
        "            rewards += reward\n",
        "            t += 1\n",
        "            if done:\n",
        "                break\n",
        "\n",
        "    env.close()\n",
        "        \n",
        "    returns_history.append(rewards)\n",
        "            \n",
        "    traj_batch.append(traj)\n",
        "    \n",
        "    if i % TRAIN_EVERY:\n",
        "        log_probs, returns = process_traj_batch(policy, traj_batch, DISCOUNT)\n",
        "        loss = -(torch.stack(log_probs) * torch.FloatTensor(returns).to(device)).sum()\n",
        "        optimizer.zero_grad()\n",
        "        loss.backward()\n",
        "        optimizer.step()\n",
        "        \n",
        "        traj_batch = []\n",
        "\n",
        "    if i % 10:\n",
        "        clear_output(True)\n",
        "        plt.figure(figsize=[12, 6])\n",
        "        plt.title('Returns'); plt.grid()\n",
        "        plt.scatter(np.arange(len(returns_history)), returns_history, alpha=0.1)\n",
        "        plt.plot(moving_average(returns_history, span=10, min_periods=10))\n",
        "        plt.show()"
      ]
    },
    {
      "cell_type": "markdown",
      "metadata": {
        "id": "Be9Zh-MamugN"
      },
      "source": [
        "Протестируем обученного агента."
      ]
    },
    {
      "cell_type": "code",
      "execution_count": 21,
      "metadata": {
        "id": "-ry9g_aBmugO",
        "colab": {
          "base_uri": "https://localhost:8080/"
        },
        "outputId": "196ed4bf-a253-4ec2-c075-579ac46170d4"
      },
      "outputs": [
        {
          "output_type": "stream",
          "name": "stdout",
          "text": [
            "Episode 1 finished after 201 timesteps\n",
            "Episode 2 finished after 201 timesteps\n",
            "Episode 3 finished after 201 timesteps\n",
            "Episode 4 finished after 201 timesteps\n",
            "Episode 5 finished after 201 timesteps\n",
            "Episode 6 finished after 201 timesteps\n",
            "Episode 7 finished after 201 timesteps\n",
            "Episode 8 finished after 201 timesteps\n",
            "Episode 9 finished after 201 timesteps\n",
            "Episode 10 finished after 201 timesteps\n",
            "Episode 11 finished after 201 timesteps\n",
            "Episode 12 finished after 201 timesteps\n",
            "Episode 13 finished after 201 timesteps\n",
            "Episode 14 finished after 201 timesteps\n",
            "Episode 15 finished after 201 timesteps\n",
            "Episode 16 finished after 201 timesteps\n",
            "Episode 17 finished after 201 timesteps\n",
            "Episode 18 finished after 201 timesteps\n",
            "Episode 19 finished after 201 timesteps\n",
            "Episode 20 finished after 201 timesteps\n",
            "Episode 21 finished after 201 timesteps\n",
            "Episode 22 finished after 201 timesteps\n",
            "Episode 23 finished after 201 timesteps\n",
            "Episode 24 finished after 201 timesteps\n",
            "Episode 25 finished after 201 timesteps\n",
            "Episode 26 finished after 201 timesteps\n",
            "Episode 27 finished after 201 timesteps\n",
            "Episode 28 finished after 201 timesteps\n",
            "Episode 29 finished after 201 timesteps\n",
            "Episode 30 finished after 201 timesteps\n",
            "Episode 31 finished after 201 timesteps\n",
            "Episode 32 finished after 201 timesteps\n",
            "Episode 33 finished after 201 timesteps\n",
            "Episode 34 finished after 201 timesteps\n",
            "Episode 35 finished after 201 timesteps\n",
            "Episode 36 finished after 201 timesteps\n",
            "Episode 37 finished after 201 timesteps\n",
            "Episode 38 finished after 201 timesteps\n",
            "Episode 39 finished after 201 timesteps\n",
            "Episode 40 finished after 201 timesteps\n",
            "Episode 41 finished after 201 timesteps\n",
            "Episode 42 finished after 201 timesteps\n",
            "Episode 43 finished after 201 timesteps\n",
            "Episode 44 finished after 201 timesteps\n",
            "Episode 45 finished after 201 timesteps\n",
            "Episode 46 finished after 201 timesteps\n",
            "Episode 47 finished after 201 timesteps\n",
            "Episode 48 finished after 201 timesteps\n",
            "Episode 49 finished after 201 timesteps\n",
            "Episode 50 finished after 201 timesteps\n",
            "Episode 51 finished after 201 timesteps\n",
            "Episode 52 finished after 201 timesteps\n",
            "Episode 53 finished after 201 timesteps\n",
            "Episode 54 finished after 201 timesteps\n",
            "Episode 55 finished after 201 timesteps\n",
            "Episode 56 finished after 201 timesteps\n",
            "Episode 57 finished after 201 timesteps\n",
            "Episode 58 finished after 201 timesteps\n",
            "Episode 59 finished after 201 timesteps\n",
            "Episode 60 finished after 201 timesteps\n",
            "Episode 61 finished after 201 timesteps\n",
            "Episode 62 finished after 201 timesteps\n",
            "Episode 63 finished after 201 timesteps\n",
            "Episode 64 finished after 201 timesteps\n",
            "Episode 65 finished after 201 timesteps\n",
            "Episode 66 finished after 201 timesteps\n",
            "Episode 67 finished after 201 timesteps\n",
            "Episode 68 finished after 201 timesteps\n",
            "Episode 69 finished after 201 timesteps\n",
            "Episode 70 finished after 201 timesteps\n",
            "Episode 71 finished after 201 timesteps\n",
            "Episode 72 finished after 201 timesteps\n",
            "Episode 73 finished after 201 timesteps\n",
            "Episode 74 finished after 201 timesteps\n",
            "Episode 75 finished after 201 timesteps\n",
            "Episode 76 finished after 201 timesteps\n",
            "Episode 77 finished after 201 timesteps\n",
            "Episode 78 finished after 201 timesteps\n",
            "Episode 79 finished after 201 timesteps\n",
            "Episode 80 finished after 201 timesteps\n",
            "Episode 81 finished after 201 timesteps\n",
            "Episode 82 finished after 201 timesteps\n",
            "Episode 83 finished after 201 timesteps\n",
            "Episode 84 finished after 201 timesteps\n",
            "Episode 85 finished after 201 timesteps\n",
            "Episode 86 finished after 201 timesteps\n",
            "Episode 87 finished after 201 timesteps\n",
            "Episode 88 finished after 201 timesteps\n",
            "Episode 89 finished after 201 timesteps\n",
            "Episode 90 finished after 201 timesteps\n",
            "Episode 91 finished after 201 timesteps\n",
            "Episode 92 finished after 201 timesteps\n",
            "Episode 93 finished after 201 timesteps\n",
            "Episode 94 finished after 201 timesteps\n",
            "Episode 95 finished after 201 timesteps\n",
            "Episode 96 finished after 201 timesteps\n",
            "Episode 97 finished after 201 timesteps\n",
            "Episode 98 finished after 201 timesteps\n",
            "Episode 99 finished after 201 timesteps\n",
            "Episode 100 finished after 201 timesteps\n"
          ]
        },
        {
          "output_type": "execute_result",
          "data": {
            "text/plain": [
              "200.0"
            ]
          },
          "metadata": {},
          "execution_count": 21
        }
      ],
      "source": [
        "test_agent(env, agent=policy, n_episodes=100)"
      ]
    },
    {
      "cell_type": "markdown",
      "metadata": {
        "id": "rf18pOwCmugS"
      },
      "source": [
        "Обученный агент должен приближаться к искомому значению средней награды за 100 эпизодов 195."
      ]
    },
    {
      "cell_type": "markdown",
      "metadata": {
        "id": "Gk3bQdF_mugT"
      },
      "source": [
        "Визуализируем обученного агента."
      ]
    },
    {
      "cell_type": "code",
      "execution_count": 22,
      "metadata": {
        "id": "c6QvXvwUsct6",
        "colab": {
          "base_uri": "https://localhost:8080/",
          "height": 422
        },
        "outputId": "713ec71a-d207-49b0-ece7-420ba30f4767"
      },
      "outputs": [
        {
          "output_type": "display_data",
          "data": {
            "text/plain": [
              "<IPython.core.display.HTML object>"
            ],
            "text/html": [
              "<video alt=\"test\" autoplay \n",
              "                loop controls style=\"height: 400px;\">\n",
              "                <source src=\"data:video/mp4;base64,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\" type=\"video/mp4\" />\n",
              "             </video>"
            ]
          },
          "metadata": {}
        }
      ],
      "source": [
        "agent_viz(agent=policy)\n",
        "show_video()"
      ]
    },
    {
      "cell_type": "markdown",
      "metadata": {
        "id": "YKkrymnnmugU"
      },
      "source": [
        "Как видно, агент выучил довольно хорошую стратегию для игры и способен долго удерживать шест."
      ]
    },
    {
      "cell_type": "markdown",
      "metadata": {
        "id": "NHxdzJsQmugV"
      },
      "source": [
        "### REINFORCE with baselines (Опционально)"
      ]
    },
    {
      "cell_type": "markdown",
      "metadata": {
        "id": "QM0DmpwlmugX"
      },
      "source": [
        "В лекциях вы слышали, что при расчете градиентов для обновления параметров политики агента мы можем вычесть из суммы дисконтированных наград ```baseline``` для уменьшения дисперсии градиентов и ускорения сходимости обучения - такой алгоритм называется REINFORCE with baselines. В качестве ```baseline``` мы можем использовать другую нейронную сеть, которая будет оценивать сумму дисконтированных наград из данного состояния *V(s)*. "
      ]
    },
    {
      "cell_type": "markdown",
      "metadata": {
        "id": "jImFlpefmugX"
      },
      "source": [
        "Схема алгоритма REINFORCE with baselines (Sutton & Barto) <img src=\"//i.imgur.com/j3BcbHP.png\" width=\"700\">"
      ]
    },
    {
      "cell_type": "markdown",
      "metadata": {
        "id": "ofDdKiKJmugY"
      },
      "source": [
        "**Задание**: Включите в уже разработанный алгоритм вторую нейронную сеть для оценки суммы дисконтированных наград *V(s)*. Используйте разницу между фактической суммой дисконтированных наград и оценкой в формуле функции потерь политики. В качестве функции потерь для *V(s)* используйте ```MSELoss```. Оцените скорость сходимости нового алгоритма."
      ]
    }
  ],
  "metadata": {
    "accelerator": "GPU",
    "colab": {
      "collapsed_sections": [],
      "name": "REINFORCE.ipynb",
      "provenance": []
    },
    "kernelspec": {
      "display_name": "Python 3",
      "language": "python",
      "name": "python3"
    },
    "language_info": {
      "codemirror_mode": {
        "name": "ipython",
        "version": 3
      },
      "file_extension": ".py",
      "mimetype": "text/x-python",
      "name": "python",
      "nbconvert_exporter": "python",
      "pygments_lexer": "ipython3",
      "version": "3.7.0"
    }
  },
  "nbformat": 4,
  "nbformat_minor": 0
}